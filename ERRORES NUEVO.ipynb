{
  "nbformat": 4,
  "nbformat_minor": 0,
  "metadata": {
    "colab": {
      "provenance": []
    },
    "kernelspec": {
      "name": "python3",
      "display_name": "Python 3"
    },
    "language_info": {
      "name": "python"
    }
  },
  "cells": [
    {
      "cell_type": "markdown",
      "source": [
        "Error EOL que ocurre mientras se escanea el literal de una cadena"
      ],
      "metadata": {
        "id": "lUoWS7CAG86B"
      }
    },
    {
      "cell_type": "code",
      "execution_count": null,
      "metadata": {
        "colab": {
          "base_uri": "https://localhost:8080/",
          "height": 130
        },
        "id": "yn7LV0hcmo7s",
        "outputId": "4ad99989-0b0f-40a6-f370-ac95e0dc0baa"
      },
      "outputs": [
        {
          "output_type": "error",
          "ename": "SyntaxError",
          "evalue": "ignored",
          "traceback": [
            "\u001b[0;36m  File \u001b[0;32m\"<ipython-input-1-d135eb789bca>\"\u001b[0;36m, line \u001b[0;32m7\u001b[0m\n\u001b[0;31m    print(\"Los cálculos han sido completados!!! \\n\",E, \"Es el valor de la peniente)\u001b[0m\n\u001b[0m                                                                                   ^\u001b[0m\n\u001b[0;31mSyntaxError\u001b[0m\u001b[0;31m:\u001b[0m EOL while scanning string literal\n"
          ]
        }
      ],
      "source": [
        "B=float(input(\"Ingresa los siguientes valores: \\n El valor de un punto en x \"))\n",
        "K=float(input(\"El valor del mismo punto en y: \"))\n",
        "S=float(input(\"El valor de la b (corte con el eje y): \"))\n",
        "\n",
        "E=(K-S)/B\n",
        "\n",
        "print(\"Los cálculos han sido completados!!! \\n\",E, \"Es el valor de la peniente)"
      ]
    },
    {
      "cell_type": "markdown",
      "source": [
        "Falta definir un variable"
      ],
      "metadata": {
        "id": "8VB5EOcXHY9a"
      }
    },
    {
      "cell_type": "code",
      "source": [
        "b==str(input(\"Descubre en este programa si debes pagar impuesto de renta! \\nResponda (si), si cumple con alguno de estos topes \\n ¿Su patrimonio bruto al término del año gravable 2021 es igual o superior a $163.386.000? \\n ¿sus ingresos totales del respectivo ejercicio gravable son iguales o superiores a $50.831.000? \\n ¿sus consumos mediante tarjeta de crédito son iguales o superiores a $50.831.000? \\n ¿el valor total de sus compras y consumos son iguales o superiores a $50.831.000?\\n ¿el valor total acumulado de sus consignaciones bancarias, depósitos o inversiones financieras son igual o superior a $50.831.000?.\"))\n",
        "\n",
        "c= \"Debe pagar impuesto a la renta.\" if b.lower()==\"si\" else\"NO debe pagar impuesto a la renta.\"\n",
        " \n",
        "print(c)"
      ],
      "metadata": {
        "colab": {
          "base_uri": "https://localhost:8080/",
          "height": 269
        },
        "id": "ocbJrvUfmyrf",
        "outputId": "51086c65-c1ca-41b4-d0c5-f11cb102a745"
      },
      "execution_count": null,
      "outputs": [
        {
          "output_type": "error",
          "ename": "NameError",
          "evalue": "ignored",
          "traceback": [
            "\u001b[0;31m---------------------------------------------------------------------------\u001b[0m",
            "\u001b[0;31mNameError\u001b[0m                                 Traceback (most recent call last)",
            "\u001b[0;32m<ipython-input-2-09bcaa743b40>\u001b[0m in \u001b[0;36m<module>\u001b[0;34m\u001b[0m\n\u001b[0;32m----> 1\u001b[0;31m \u001b[0mb\u001b[0m\u001b[0;34m==\u001b[0m\u001b[0mstr\u001b[0m\u001b[0;34m(\u001b[0m\u001b[0minput\u001b[0m\u001b[0;34m(\u001b[0m\u001b[0;34m\"Descubre en este programa si debes pagar impuesto de renta! \\nResponda (si), si cumple con alguno de estos topes \\n ¿Su patrimonio bruto al término del año gravable 2021 es igual o superior a $163.386.000? \\n ¿sus ingresos totales del respectivo ejercicio gravable son iguales o superiores a $50.831.000? \\n ¿sus consumos mediante tarjeta de crédito son iguales o superiores a $50.831.000? \\n ¿el valor total de sus compras y consumos son iguales o superiores a $50.831.000?\\n ¿el valor total acumulado de sus consignaciones bancarias, depósitos o inversiones financieras son igual o superior a $50.831.000?.\"\u001b[0m\u001b[0;34m)\u001b[0m\u001b[0;34m)\u001b[0m\u001b[0;34m\u001b[0m\u001b[0;34m\u001b[0m\u001b[0m\n\u001b[0m\u001b[1;32m      2\u001b[0m \u001b[0;34m\u001b[0m\u001b[0m\n\u001b[1;32m      3\u001b[0m \u001b[0mc\u001b[0m\u001b[0;34m=\u001b[0m \u001b[0;34m\"Debe pagar impuesto a la renta.\"\u001b[0m \u001b[0;32mif\u001b[0m \u001b[0mb\u001b[0m\u001b[0;34m.\u001b[0m\u001b[0mlower\u001b[0m\u001b[0;34m(\u001b[0m\u001b[0;34m)\u001b[0m\u001b[0;34m==\u001b[0m\u001b[0;34m\"si\"\u001b[0m \u001b[0;32melse\u001b[0m\u001b[0;34m\"NO debe pagar impuesto a la renta.\"\u001b[0m\u001b[0;34m\u001b[0m\u001b[0;34m\u001b[0m\u001b[0m\n\u001b[1;32m      4\u001b[0m \u001b[0;34m\u001b[0m\u001b[0m\n\u001b[1;32m      5\u001b[0m \u001b[0mprint\u001b[0m\u001b[0;34m(\u001b[0m\u001b[0mc\u001b[0m\u001b[0;34m)\u001b[0m\u001b[0;34m\u001b[0m\u001b[0;34m\u001b[0m\u001b[0m\n",
            "\u001b[0;31mNameError\u001b[0m: name 'b' is not defined"
          ]
        }
      ]
    },
    {
      "cell_type": "markdown",
      "source": [
        "v es una variable que se usa en el codigo, sin embargo al usar dos \"=\" se esta comparando y lo que se debe hacer es nombrarla "
      ],
      "metadata": {
        "id": "KVWiBJpqnBaN"
      }
    },
    {
      "cell_type": "code",
      "source": [
        "E=[\n",
        "for i in range (0,3):\n",
        "  val=int(input(\"Ingrese su edad\"))\n",
        "  E.append(val) \n",
        "E.sort()\n",
        "print(E)\n",
        "\n",
        "if E[0]==E[1] and E[0]==E[2]:\n",
        " print(\"Los hermanos son trillizos\")\n",
        "elif E[0]==E[1] or E[0]==E[2] or E[1]==E[2]:\n",
        " print(\"Los hermanos son gemelos\")\n"
      ],
      "metadata": {
        "colab": {
          "base_uri": "https://localhost:8080/",
          "height": 130
        },
        "id": "c3DKRqtgm2cg",
        "outputId": "f858b732-91da-4887-f38b-4cf1ec6c1a18"
      },
      "execution_count": null,
      "outputs": [
        {
          "output_type": "error",
          "ename": "SyntaxError",
          "evalue": "ignored",
          "traceback": [
            "\u001b[0;36m  File \u001b[0;32m\"<ipython-input-3-5831aec8686c>\"\u001b[0;36m, line \u001b[0;32m2\u001b[0m\n\u001b[0;31m    for i in range (0,3):\u001b[0m\n\u001b[0m      ^\u001b[0m\n\u001b[0;31mSyntaxError\u001b[0m\u001b[0;31m:\u001b[0m invalid syntax\n"
          ]
        }
      ]
    },
    {
      "cell_type": "markdown",
      "source": [
        "Un error de sintaxis, estamos creando una lista vacía pero sin embargo no se cerro esta "
      ],
      "metadata": {
        "id": "EWUEg0JGnJ2t"
      }
    },
    {
      "cell_type": "code",
      "source": [
        "print(\"Descubre en este programa si debes pagar impuesto de renta! \\nResponda (si), si cumple con alguno de estos topes\")\n",
        "print(\"¿Su patrimonio bruto al término del año gravable 2021 es igual o superior a $163.386.000? \\n ¿sus ingresos totales del respectivo ejercicio gravable son iguales o superiores a $50.831.000?\")\n",
        "print(\"¿sus consumos mediante tarjeta de crédito son iguales o superiores a $50.831.000? \\n ¿el valor total de sus compras y consumos son iguales o superiores a $50.831.000?\")\n",
        "print(\"¿el valor total acumulado de sus consignaciones bancarias, depósitos o inversiones financieras son igual o superior a $50.831.000?.\")\n",
        "B=str(input())\n",
        "if B.lower()==\"si\":\n",
        "print(\"Debe pagar impuesto a la renta.\")\n",
        "else:\n",
        " print(\"NO debe pagar impuesto a la renta.\")"
      ],
      "metadata": {
        "colab": {
          "base_uri": "https://localhost:8080/",
          "height": 130
        },
        "id": "vqY9Q_j3nKTG",
        "outputId": "a4491555-7bfe-4ea5-a9b9-338894eb5114"
      },
      "execution_count": null,
      "outputs": [
        {
          "output_type": "error",
          "ename": "IndentationError",
          "evalue": "ignored",
          "traceback": [
            "\u001b[0;36m  File \u001b[0;32m\"<ipython-input-4-e9141c91bdf6>\"\u001b[0;36m, line \u001b[0;32m7\u001b[0m\n\u001b[0;31m    print(\"Debe pagar impuesto a la renta.\")\u001b[0m\n\u001b[0m        ^\u001b[0m\n\u001b[0;31mIndentationError\u001b[0m\u001b[0;31m:\u001b[0m expected an indented block\n"
          ]
        }
      ]
    },
    {
      "cell_type": "markdown",
      "source": [
        "Un error de identación, hace falta un tab para que el programa corra con normalidad"
      ],
      "metadata": {
        "id": "3r2mAHa-nTAz"
      }
    },
    {
      "cell_type": "code",
      "source": [
        "B=int(input(\"¡¡¡Ingresa un año para saber si es bisiesto o no!!!. \"))\n",
        "y=B%4\n",
        "x=B%400\n",
        "m=B%100\n",
        "if y !=0: #El \"!\" es como es \">=\" es lo mismo pero con la exclamación para marcar diferente \"!=\"\n",
        " print(\"El año ingresado NO es bisiesto.\")\n",
        "elif y==0 and m!=0: \n",
        " print(\"El año ingresado es bisiesto.\")\n",
        "elif y==0 and m==0 and x!=0\n",
        " print(\"El año ingresado NO es bisiesto.\")\n",
        "elif y==0 and m==0 and x==0: \n",
        " print(\"El año ingresado es bisiesto.\")\n",
        "else:\n",
        " print(\"El año ingresado NO es bisiesto.\")"
      ],
      "metadata": {
        "colab": {
          "base_uri": "https://localhost:8080/",
          "height": 130
        },
        "id": "clU7eB0InTtr",
        "outputId": "c4649f8d-9df7-4331-ad14-1fac776797de"
      },
      "execution_count": null,
      "outputs": [
        {
          "output_type": "error",
          "ename": "SyntaxError",
          "evalue": "ignored",
          "traceback": [
            "\u001b[0;36m  File \u001b[0;32m\"<ipython-input-5-9287a7f44883>\"\u001b[0;36m, line \u001b[0;32m9\u001b[0m\n\u001b[0;31m    elif y==0 and m==0 and x!=0\u001b[0m\n\u001b[0m                               ^\u001b[0m\n\u001b[0;31mSyntaxError\u001b[0m\u001b[0;31m:\u001b[0m invalid syntax\n"
          ]
        }
      ]
    },
    {
      "cell_type": "markdown",
      "source": [
        "En la linea numero 9 se presenta un error de sintaxis, nos hace falta \":\""
      ],
      "metadata": {
        "id": "aLPw8xS-ngSh"
      }
    },
    {
      "cell_type": "code",
      "source": [
        "print(\"¡Ola! Ingresa una letra y sabras si es consonante o vocal\")\n",
        "Binput()\n",
        "cantidad=len(B)\n",
        "tipo=type(B)\n",
        "\n",
        "if B.isdigit()==True: #el atributo .isdigit() comprueba si un valor es un número y regresa a un valor Booleano [True or False]\n",
        " print(\"SYNTAX ERROR\")\n",
        "elif cantidad>=2:\n",
        " print(\"SYNTAX ERROR\")\n",
        "else:\n",
        "  if B==(\"a\" or \"e\" or \"i\" or \"o\" or \"u\"):\n",
        "    print (\"La letra ingresada es una vocal :D\")\n",
        "  else:\n",
        "    print (\"la letra ingresada es una consonante\")"
      ],
      "metadata": {
        "colab": {
          "base_uri": "https://localhost:8080/",
          "height": 252
        },
        "id": "vGO4V2uEneVD",
        "outputId": "10e42d90-2c14-4c87-a3e9-898c672bc3c4"
      },
      "execution_count": null,
      "outputs": [
        {
          "output_type": "stream",
          "name": "stdout",
          "text": [
            "¡Ola! Ingresa una letra y sabras si es consonante o vocal \\( ≖.≖)/\n"
          ]
        },
        {
          "output_type": "error",
          "ename": "NameError",
          "evalue": "ignored",
          "traceback": [
            "\u001b[0;31m---------------------------------------------------------------------------\u001b[0m",
            "\u001b[0;31mNameError\u001b[0m                                 Traceback (most recent call last)",
            "\u001b[0;32m<ipython-input-10-832b93c4a064>\u001b[0m in \u001b[0;36m<module>\u001b[0;34m\u001b[0m\n\u001b[1;32m      1\u001b[0m \u001b[0mprint\u001b[0m\u001b[0;34m(\u001b[0m\u001b[0;34m\"¡Ola! Ingresa una letra y sabras si es consonante o vocal \\( ≖.≖)/\"\u001b[0m\u001b[0;34m)\u001b[0m\u001b[0;34m\u001b[0m\u001b[0;34m\u001b[0m\u001b[0m\n\u001b[0;32m----> 2\u001b[0;31m \u001b[0mBinput\u001b[0m\u001b[0;34m(\u001b[0m\u001b[0;34m)\u001b[0m\u001b[0;34m\u001b[0m\u001b[0;34m\u001b[0m\u001b[0m\n\u001b[0m\u001b[1;32m      3\u001b[0m \u001b[0mcantidad\u001b[0m\u001b[0;34m=\u001b[0m\u001b[0mlen\u001b[0m\u001b[0;34m(\u001b[0m\u001b[0mB\u001b[0m\u001b[0;34m)\u001b[0m\u001b[0;34m\u001b[0m\u001b[0;34m\u001b[0m\u001b[0m\n\u001b[1;32m      4\u001b[0m \u001b[0mtipo\u001b[0m\u001b[0;34m=\u001b[0m\u001b[0mtype\u001b[0m\u001b[0;34m(\u001b[0m\u001b[0mB\u001b[0m\u001b[0;34m)\u001b[0m\u001b[0;34m\u001b[0m\u001b[0;34m\u001b[0m\u001b[0m\n\u001b[1;32m      5\u001b[0m \u001b[0;34m\u001b[0m\u001b[0m\n",
            "\u001b[0;31mNameError\u001b[0m: name 'Binput' is not defined"
          ]
        }
      ]
    },
    {
      "cell_type": "markdown",
      "source": [
        "En la linea 2 se nos paso colocar un \"=\" a una variable, por tanto el programa no encuentra definido esto"
      ],
      "metadata": {
        "id": "KivsTPZ8nmM4"
      }
    },
    {
      "cell_type": "code",
      "source": [
        "B=int(input(\"Ingresa un número: \")) #El input tambien puede servir de print pero con poco texto\n",
        "print(\"Si quieres convertir de cm a metros pon 1, si quieres convertir de cm a km pon 2 , si quieres convertir de mestros a km pon 3, si quieres convertir de km a cm pon 4, si quieres convertir de km a m pon 5\")\n",
        "K=int(input(\"\"))\n",
        "t=int\n",
        "if K==1: \n",
        " t=B/100\n",
        "eli K==2: #Elif: Si no se cumple la condición, ejecuta otras instrucciones siguiendo una nueva condición dada \n",
        " t=B/100000\n",
        "elif K==3:\n",
        " t=B/1000\n",
        "elif K==4:\n",
        " t=B*1000\n",
        "elif K==5:\n",
        " t=B*1000\n",
        "else:\n",
        "  print(\"Opción inválida\")\n",
        "print (t)"
      ],
      "metadata": {
        "colab": {
          "base_uri": "https://localhost:8080/",
          "height": 130
        },
        "id": "Su-_EPV5njYR",
        "outputId": "5eb1a621-866f-4dff-be43-2ab4204853e2"
      },
      "execution_count": null,
      "outputs": [
        {
          "output_type": "error",
          "ename": "SyntaxError",
          "evalue": "ignored",
          "traceback": [
            "\u001b[0;36m  File \u001b[0;32m\"<ipython-input-9-e89237003e46>\"\u001b[0;36m, line \u001b[0;32m7\u001b[0m\n\u001b[0;31m    eli K==2: #Elif: Si no se cumple la condición, ejecuta otras instrucciones siguiendo una nueva condición dada\u001b[0m\n\u001b[0m        ^\u001b[0m\n\u001b[0;31mSyntaxError\u001b[0m\u001b[0;31m:\u001b[0m invalid syntax\n"
          ]
        }
      ]
    },
    {
      "cell_type": "markdown",
      "source": [
        "No escribimos correctamente el elif para solucionarlo solo debemos escribirlo correctamente ya que es un error de sintaxis"
      ],
      "metadata": {
        "id": "WmB40gDlnpOo"
      }
    },
    {
      "cell_type": "code",
      "source": [
        "print(\"Ingrese los números a sumar\")\n",
        "a=int input(\" \")\n",
        "b=0\n",
        "\n",
        "for i in range (1,a):\n",
        "  print(i)\n",
        "  b=b+i\n",
        "  print(\"La suma es: \",b)"
      ],
      "metadata": {
        "colab": {
          "base_uri": "https://localhost:8080/",
          "height": 130
        },
        "id": "QuCqzOX0ntWo",
        "outputId": "6bb793ba-cee7-46bb-afc7-e272438635d1"
      },
      "execution_count": null,
      "outputs": [
        {
          "output_type": "error",
          "ename": "SyntaxError",
          "evalue": "ignored",
          "traceback": [
            "\u001b[0;36m  File \u001b[0;32m\"<ipython-input-8-4ab8b54bb4df>\"\u001b[0;36m, line \u001b[0;32m2\u001b[0m\n\u001b[0;31m    a=int input(\" \")\u001b[0m\n\u001b[0m              ^\u001b[0m\n\u001b[0;31mSyntaxError\u001b[0m\u001b[0;31m:\u001b[0m invalid syntax\n"
          ]
        }
      ]
    },
    {
      "cell_type": "markdown",
      "source": [
        "b es una variable que se usa en el codigo, sin embargo al usar dos \"=\" se esta comparando y lo que se debe hacer es nombrarla "
      ],
      "metadata": {
        "id": "KhY43ugin8RQ"
      }
    },
    {
      "cell_type": "code",
      "source": [
        "E=[\n",
        "for i in range (0,3):\n",
        "  val=int(input(\"Ingrese su edad\"))\n",
        "  E.append(val) \n",
        "E.sort()\n",
        "print(E)\n",
        "\n",
        "if E[0]==E[1] and E[0]==E[2]:\n",
        " print(\"Los hermanos son trillizos\")\n",
        "elif E[0]==E[1] or E[0]==E[2] or E[1]==E[2]:\n",
        " print(\"Los hermanos son gemelos\")"
      ],
      "metadata": {
        "colab": {
          "base_uri": "https://localhost:8080/",
          "height": 130
        },
        "id": "n8PSNDpjoAUt",
        "outputId": "b8122609-6067-48ba-a54c-1f756393598b"
      },
      "execution_count": null,
      "outputs": [
        {
          "output_type": "error",
          "ename": "SyntaxError",
          "evalue": "ignored",
          "traceback": [
            "\u001b[0;36m  File \u001b[0;32m\"<ipython-input-7-5831aec8686c>\"\u001b[0;36m, line \u001b[0;32m2\u001b[0m\n\u001b[0;31m    for i in range (0,3):\u001b[0m\n\u001b[0m      ^\u001b[0m\n\u001b[0;31mSyntaxError\u001b[0m\u001b[0;31m:\u001b[0m invalid syntax\n"
          ]
        }
      ]
    },
    {
      "cell_type": "markdown",
      "source": [
        "Un error de sintaxis, estamos creando una lista vacía pero sin embargo no se cerro esta"
      ],
      "metadata": {
        "id": "NkAzfMwHoEwn"
      }
    },
    {
      "cell_type": "code",
      "source": [
        "print(\"Descubre en este programa si debes pagar impuesto de renta! \\nResponda (si), si cumple con alguno de estos topes\")\n",
        "print(\"¿Su patrimonio bruto al término del año gravable 2021 es igual o superior a $163.386.000? \\n ¿sus ingresos totales del respectivo ejercicio gravable son iguales o superiores a $50.831.000?\")\n",
        "print(\"¿sus consumos mediante tarjeta de crédito son iguales o superiores a $50.831.000? \\n ¿el valor total de sus compras y consumos son iguales o superiores a $50.831.000?\")\n",
        "print(\"¿el valor total acumulado de sus consignaciones bancarias, depósitos o inversiones financieras son igual o superior a $50.831.000?.\")\n",
        "B=str(input())\n",
        "if B.lower()==\"si\":\n",
        "print(\"Debe pagar impuesto a la renta.\")\n",
        "else:\n",
        " print(\"NO debe pagar impuesto a la renta.\")"
      ],
      "metadata": {
        "colab": {
          "base_uri": "https://localhost:8080/",
          "height": 130
        },
        "id": "lm7DhqZmoFRv",
        "outputId": "51c93ece-60ee-4d30-960f-b371768d1572"
      },
      "execution_count": null,
      "outputs": [
        {
          "output_type": "error",
          "ename": "IndentationError",
          "evalue": "ignored",
          "traceback": [
            "\u001b[0;36m  File \u001b[0;32m\"<ipython-input-6-e9141c91bdf6>\"\u001b[0;36m, line \u001b[0;32m7\u001b[0m\n\u001b[0;31m    print(\"Debe pagar impuesto a la renta.\")\u001b[0m\n\u001b[0m        ^\u001b[0m\n\u001b[0;31mIndentationError\u001b[0m\u001b[0;31m:\u001b[0m expected an indented block\n"
          ]
        }
      ]
    },
    {
      "cell_type": "markdown",
      "source": [
        "Segundo error de EOL que ocurre mientras se escanea el literal de una cadena"
      ],
      "metadata": {
        "id": "419OR8o3HjmT"
      }
    },
    {
      "cell_type": "code",
      "source": [
        "B=float(input(\"Ingresa los siguientes valores: \\n El valor de un punto en x \"))\n",
        "K=float(input(\"El valor del mismo punto en y: \"))\n",
        "S=float(input(\"El valor de la b (corte con el eje y): \"))\n",
        "\n",
        "E=(K-S)/B\n",
        "\n",
        "print(\"Los cálculos han sido completados!!! \\n\",E, \"Es el valor de la peniente)\n",
        "B=float(input(\"Ingresa los siguientes valores: \\n El valor de un punto en x \"))\n",
        "K=float(input(\"El valor del mismo punto en y: \"))\n",
        "S=float(input(\"El valor de la b (corte con el eje y): \"))\n",
        "\n",
        "E=(K-S)/B\n",
        "\n",
        "print(\"Los cálculos han sido completados!!! \\n\",E, \"Es el valor de la peniente)"
      ],
      "metadata": {
        "colab": {
          "base_uri": "https://localhost:8080/",
          "height": 130
        },
        "id": "XgJGaoc1ogQ4",
        "outputId": "5ec18300-02d8-4980-ed77-6b511eb5d344"
      },
      "execution_count": null,
      "outputs": [
        {
          "output_type": "error",
          "ename": "SyntaxError",
          "evalue": "ignored",
          "traceback": [
            "\u001b[0;36m  File \u001b[0;32m\"<ipython-input-12-44a39fd09631>\"\u001b[0;36m, line \u001b[0;32m7\u001b[0m\n\u001b[0;31m    print(\"Los cálculos han sido completados!!! \\n\",E, \"Es el valor de la peniente)\u001b[0m\n\u001b[0m                                                                                   ^\u001b[0m\n\u001b[0;31mSyntaxError\u001b[0m\u001b[0;31m:\u001b[0m EOL while scanning string literal\n"
          ]
        }
      ]
    },
    {
      "cell_type": "markdown",
      "source": [
        "Error de sintaxis invalida que ocurre por mala identacion y falta de comillas al definir strings"
      ],
      "metadata": {
        "id": "TZwR-e8jHymb"
      }
    },
    {
      "cell_type": "code",
      "source": [
        "B=int(input(\"¡¡¡Ingresa un año para saber si es bisiesto o no!!!. \"))\n",
        "y=B%4\n",
        "x=B%400\n",
        "m=B%100\n",
        "if y !=0: #El \"!\" es como es \">=\" es lo mismo pero con la exclamación para marcar diferente \"!=\"\n",
        " print(\"El año ingresado NO es bisiesto.\")\n",
        "elif y==0 and m!=0: \n",
        " print(\"El año ingresado es bisiesto.\")\n",
        "elif y==0 and m==0 and x!=0\n",
        " print(\"El año ingresado NO es bisiesto.\")\n",
        "elif y==0 and m==0 and x==0: \n",
        " print(\"El año ingresado es bisiesto.\")\n",
        "else:\n",
        " print(\"El año ingresado NO es bisiesto.\")"
      ],
      "metadata": {
        "colab": {
          "base_uri": "https://localhost:8080/",
          "height": 130
        },
        "id": "AGTvA_xToiew",
        "outputId": "3cdf490b-fd74-4219-8c27-9c25d6a70acf"
      },
      "execution_count": null,
      "outputs": [
        {
          "output_type": "error",
          "ename": "SyntaxError",
          "evalue": "ignored",
          "traceback": [
            "\u001b[0;36m  File \u001b[0;32m\"<ipython-input-13-9287a7f44883>\"\u001b[0;36m, line \u001b[0;32m9\u001b[0m\n\u001b[0;31m    elif y==0 and m==0 and x!=0\u001b[0m\n\u001b[0m                               ^\u001b[0m\n\u001b[0;31mSyntaxError\u001b[0m\u001b[0;31m:\u001b[0m invalid syntax\n"
          ]
        }
      ]
    },
    {
      "cell_type": "markdown",
      "source": [
        "Error de identacion"
      ],
      "metadata": {
        "id": "hI8nwpKFH7K9"
      }
    },
    {
      "cell_type": "code",
      "source": [
        "\n",
        "print(\"¿el valor total acumulado de sus consignaciones bancarias, depósitos o inversiones financieras son igual o superior a $50.831.000?.\")\n",
        "B=str(input())\n",
        "if B.lower()==\"si\":\n",
        "print(\"Debe pagar impuesto a la renta.\")\n",
        "else:\n",
        " print(\"NO debe pagar impuesto a la renta.\")"
      ],
      "metadata": {
        "colab": {
          "base_uri": "https://localhost:8080/",
          "height": 130
        },
        "id": "-B9UA0Hso0Ko",
        "outputId": "abc98d09-6f06-420a-d27d-b9f40c230e30"
      },
      "execution_count": null,
      "outputs": [
        {
          "output_type": "error",
          "ename": "IndentationError",
          "evalue": "ignored",
          "traceback": [
            "\u001b[0;36m  File \u001b[0;32m\"<ipython-input-14-b947791ee065>\"\u001b[0;36m, line \u001b[0;32m4\u001b[0m\n\u001b[0;31m    print(\"Debe pagar impuesto a la renta.\")\u001b[0m\n\u001b[0m        ^\u001b[0m\n\u001b[0;31mIndentationError\u001b[0m\u001b[0;31m:\u001b[0m expected an indented block\n"
          ]
        }
      ]
    },
    {
      "cell_type": "markdown",
      "source": [
        "Falta definir una variaable que ocurre por mala identacion y falta de comillas al definir strings\n",
        "\n",
        "1.   Elemento de la lista\n",
        "2.   Elemento de la lista\n",
        "\n"
      ],
      "metadata": {
        "id": "ugiq99nkH_o3"
      }
    },
    {
      "cell_type": "code",
      "source": [
        "print(\"¡Ola! Ingresa una letra y sabras si es consonante o vocal\")\n",
        "Binput()\n",
        "cantidad=len(B)\n",
        "tipo=type(B)\n",
        "\n",
        "if B.isdigit()==True:\n",
        " print(\"SYNTAX ERROR\")\n",
        "elif cantidad>=2:\n",
        " print(\"SYNTAX ERROR\")\n",
        "else:\n",
        "  if B==(\"a\" or \"e\" or \"i\" or \"o\" or \"u\"):\n",
        "    print (\"La letra ingresada es una vocal :D\")\n",
        "  else:\n",
        "    print (\"la letra ingresada es una consonante\")"
      ],
      "metadata": {
        "colab": {
          "base_uri": "https://localhost:8080/",
          "height": 252
        },
        "id": "rFJhZV3Go25Y",
        "outputId": "bb418dbb-24b6-411c-d7a7-a3900b5e2841"
      },
      "execution_count": null,
      "outputs": [
        {
          "output_type": "stream",
          "name": "stdout",
          "text": [
            "¡Ola! Ingresa una letra y sabras si es consonante o vocal\n"
          ]
        },
        {
          "output_type": "error",
          "ename": "NameError",
          "evalue": "ignored",
          "traceback": [
            "\u001b[0;31m---------------------------------------------------------------------------\u001b[0m",
            "\u001b[0;31mNameError\u001b[0m                                 Traceback (most recent call last)",
            "\u001b[0;32m<ipython-input-15-4c80226abbba>\u001b[0m in \u001b[0;36m<module>\u001b[0;34m\u001b[0m\n\u001b[1;32m      1\u001b[0m \u001b[0mprint\u001b[0m\u001b[0;34m(\u001b[0m\u001b[0;34m\"¡Ola! Ingresa una letra y sabras si es consonante o vocal\"\u001b[0m\u001b[0;34m)\u001b[0m\u001b[0;34m\u001b[0m\u001b[0;34m\u001b[0m\u001b[0m\n\u001b[0;32m----> 2\u001b[0;31m \u001b[0mBinput\u001b[0m\u001b[0;34m(\u001b[0m\u001b[0;34m)\u001b[0m\u001b[0;34m\u001b[0m\u001b[0;34m\u001b[0m\u001b[0m\n\u001b[0m\u001b[1;32m      3\u001b[0m \u001b[0mcantidad\u001b[0m\u001b[0;34m=\u001b[0m\u001b[0mlen\u001b[0m\u001b[0;34m(\u001b[0m\u001b[0mB\u001b[0m\u001b[0;34m)\u001b[0m\u001b[0;34m\u001b[0m\u001b[0;34m\u001b[0m\u001b[0m\n\u001b[1;32m      4\u001b[0m \u001b[0mtipo\u001b[0m\u001b[0;34m=\u001b[0m\u001b[0mtype\u001b[0m\u001b[0;34m(\u001b[0m\u001b[0mB\u001b[0m\u001b[0;34m)\u001b[0m\u001b[0;34m\u001b[0m\u001b[0;34m\u001b[0m\u001b[0m\n\u001b[1;32m      5\u001b[0m \u001b[0;34m\u001b[0m\u001b[0m\n",
            "\u001b[0;31mNameError\u001b[0m: name 'Binput' is not defined"
          ]
        }
      ]
    },
    {
      "cell_type": "markdown",
      "source": [
        "Segundo error sobre sintaxis invalida que ocurre por mala identacion y falta de comillas al definir strings\n",
        "\n",
        "1.   Elemento de la lista\n",
        "2.   Elemento de la lista\n",
        "\n"
      ],
      "metadata": {
        "id": "hcCFe90BIEqt"
      }
    },
    {
      "cell_type": "code",
      "source": [
        "B=int(input(\"Ingresa un número: \"))\n",
        "print(\"Si quieres convertir de cm a metros pon 1, si quieres convertir de cm a km pon 2 , si quieres convertir de mestros a km pon 3, si quieres convertir de km a cm pon 4, si quieres convertir de km a m pon 5\")\n",
        "K=int(input(\"\"))\n",
        "t=int\n",
        "if K==1: \n",
        " t=B/100\n",
        "eli K==2:\n",
        " t=B/100000\n",
        "elif K==3:\n",
        " t=B/1000\n",
        "elif K==4:\n",
        " t=B*1000\n",
        "elif K==5:\n",
        " t=B*1000\n",
        "else:\n",
        "  print(\"Opción inválida\")\n",
        "print (t)"
      ],
      "metadata": {
        "colab": {
          "base_uri": "https://localhost:8080/",
          "height": 130
        },
        "id": "4hbbRXSupBZY",
        "outputId": "0fbd34c0-23e1-4526-cf7b-dd1afe0356e4"
      },
      "execution_count": null,
      "outputs": [
        {
          "output_type": "error",
          "ename": "SyntaxError",
          "evalue": "ignored",
          "traceback": [
            "\u001b[0;36m  File \u001b[0;32m\"<ipython-input-16-cd842b08e3bd>\"\u001b[0;36m, line \u001b[0;32m7\u001b[0m\n\u001b[0;31m    eli K==2:\u001b[0m\n\u001b[0m        ^\u001b[0m\n\u001b[0;31mSyntaxError\u001b[0m\u001b[0;31m:\u001b[0m invalid syntax\n"
          ]
        }
      ]
    },
    {
      "cell_type": "markdown",
      "source": [
        "tercer error EOL que ocurre mientras se escanea el literal de una cadena"
      ],
      "metadata": {
        "id": "0RKCquCiJWqZ"
      }
    },
    {
      "cell_type": "code",
      "source": [
        "\n",
        "S=float(input(\"El valor de la b (corte con el eje y): \"))\n",
        "\n",
        "E=(K-S)/B\n",
        "\n",
        "print(\"Los cálculos han sido completados!!! \\n\",E, \"Es el valor de la peniente)"
      ],
      "metadata": {
        "colab": {
          "base_uri": "https://localhost:8080/",
          "height": 130
        },
        "id": "I8vseTyjpLsY",
        "outputId": "8455874e-145b-402e-f7d7-c22794b04907"
      },
      "execution_count": null,
      "outputs": [
        {
          "output_type": "error",
          "ename": "SyntaxError",
          "evalue": "ignored",
          "traceback": [
            "\u001b[0;36m  File \u001b[0;32m\"<ipython-input-17-a5c40ee98921>\"\u001b[0;36m, line \u001b[0;32m5\u001b[0m\n\u001b[0;31m    print(\"Los cálculos han sido completados!!! \\n\",E, \"Es el valor de la peniente)\u001b[0m\n\u001b[0m                                                                                   ^\u001b[0m\n\u001b[0;31mSyntaxError\u001b[0m\u001b[0;31m:\u001b[0m EOL while scanning string literal\n"
          ]
        }
      ]
    },
    {
      "cell_type": "markdown",
      "source": [
        "Error de sintaxis invalido"
      ],
      "metadata": {
        "id": "k0p_m0NUJbZf"
      }
    },
    {
      "cell_type": "code",
      "source": [
        "B=int(input(\"¡¡¡Ingresa un año para saber si es bisiesto o no!!!. \"))\n",
        "y=B%4\n",
        "x=B%400\n",
        "m=B%100\n",
        "if y !=0: #\n",
        " print(\"El año ingresado NO es bisiesto.\")\n",
        "elif y==0 and m!=0: \n",
        " print(\"El año ingresado es bisiesto.\")\n",
        "ghl,b)print()"
      ],
      "metadata": {
        "colab": {
          "base_uri": "https://localhost:8080/",
          "height": 130
        },
        "id": "OXIm3l2xpNlY",
        "outputId": "4aa6f47d-a437-4b24-ba87-a8dadc8ab8d4"
      },
      "execution_count": null,
      "outputs": [
        {
          "output_type": "error",
          "ename": "SyntaxError",
          "evalue": "ignored",
          "traceback": [
            "\u001b[0;36m  File \u001b[0;32m\"<ipython-input-21-6edd44f61d2c>\"\u001b[0;36m, line \u001b[0;32m9\u001b[0m\n\u001b[0;31m    ghl,b)print()\u001b[0m\n\u001b[0m         ^\u001b[0m\n\u001b[0;31mSyntaxError\u001b[0m\u001b[0;31m:\u001b[0m invalid syntax\n"
          ]
        }
      ]
    },
    {
      "cell_type": "markdown",
      "source": [
        "Cuarto error de sintaxis invalido que ocurre cuando los textos no estan bien identados"
      ],
      "metadata": {
        "id": "dWBRQyCtJiAf"
      }
    },
    {
      "cell_type": "code",
      "source": [
        "print(\"¡Ola! Ingresa una letra y sabras si es consonante o vocal\")\n",
        "Binput()\n",
        "cantidad=len(B)\n",
        "tipo=type(B)\n",
        "\n",
        "elif cantidad>=2:\n",
        " print(\"SYNTAX ERROR\")\n",
        "else:\n",
        "  if B==(\"a\" or \"e\" or \"i\" or \"o\" or \"u\"):\n",
        "    print (\"La letra ingresada es una vocal :D\")\n",
        "  else:\n",
        "    print (\"la letra ingresada es una consonante\")"
      ],
      "metadata": {
        "colab": {
          "base_uri": "https://localhost:8080/",
          "height": 130
        },
        "id": "2nKVeA39piEA",
        "outputId": "463e8c53-d8a1-4dde-e49c-f77e49fd126b"
      },
      "execution_count": null,
      "outputs": [
        {
          "output_type": "error",
          "ename": "SyntaxError",
          "evalue": "ignored",
          "traceback": [
            "\u001b[0;36m  File \u001b[0;32m\"<ipython-input-22-9b5d4d5a1814>\"\u001b[0;36m, line \u001b[0;32m6\u001b[0m\n\u001b[0;31m    elif cantidad>=2:\u001b[0m\n\u001b[0m       ^\u001b[0m\n\u001b[0;31mSyntaxError\u001b[0m\u001b[0;31m:\u001b[0m invalid syntax\n"
          ]
        }
      ]
    },
    {
      "cell_type": "markdown",
      "source": [
        "quinto Error EOL que ocurre mientras se escanea el literal de una cadena"
      ],
      "metadata": {
        "id": "M0h-mgsYJtpT"
      }
    },
    {
      "cell_type": "code",
      "source": [
        "b==str(input(\"Descubre en este progra"
      ],
      "metadata": {
        "colab": {
          "base_uri": "https://localhost:8080/",
          "height": 130
        },
        "id": "8DBYJFQlpokQ",
        "outputId": "7c8ed75c-fe21-475f-9e80-4c18ccc1830b"
      },
      "execution_count": null,
      "outputs": [
        {
          "output_type": "error",
          "ename": "SyntaxError",
          "evalue": "ignored",
          "traceback": [
            "\u001b[0;36m  File \u001b[0;32m\"<ipython-input-23-047ff79d25ed>\"\u001b[0;36m, line \u001b[0;32m1\u001b[0m\n\u001b[0;31m    b==str(input(\"Descubre en este progra\u001b[0m\n\u001b[0m                                         ^\u001b[0m\n\u001b[0;31mSyntaxError\u001b[0m\u001b[0;31m:\u001b[0m EOL while scanning string literal\n"
          ]
        }
      ]
    },
    {
      "cell_type": "markdown",
      "source": [
        "Segundo error sobre sintaxis invalida que ocurre por mala identacion y falta de comillas al definir strings"
      ],
      "metadata": {
        "id": "UshaYq6eJ1Q6"
      }
    },
    {
      "cell_type": "code",
      "source": [
        "E=[\n",
        "for i in range (0,3):\n",
        "  val=int(input(\"Ingrese su edad\"))\n",
        "  E.append(val) \n",
        "E.sort()\n",
        "print(E)\n",
        "\n",
        "if E[0]==E[1] and E[0]==E[2]:\n",
        " print(\"Los hermanos son trillizos\")\n",
        "elif E[0]==E[1] or E[0]==E[2] or E[1]==E[2]:\n",
        " print(\"Los hermanos son gemelos\")\n",
        "  E.append(val) \n",
        "E.sort()\n",
        "print(E)\n",
        "\n",
        "if E[0]==E[1] and E[0]==E[2]:\n",
        " print(\"Los hermanos son trillizos\")\n",
        "elif E[0]==E[1] or E[0]==E[2] or E[1]==E[2]:\n",
        " print(\"Los hermanos son gemelos\")\n"
      ],
      "metadata": {
        "colab": {
          "base_uri": "https://localhost:8080/",
          "height": 130
        },
        "id": "itZU8LZipwo4",
        "outputId": "b1209dcb-82a3-4331-bd31-6b9bc10e3e88"
      },
      "execution_count": null,
      "outputs": [
        {
          "output_type": "error",
          "ename": "SyntaxError",
          "evalue": "ignored",
          "traceback": [
            "\u001b[0;36m  File \u001b[0;32m\"<ipython-input-24-ec5006f212da>\"\u001b[0;36m, line \u001b[0;32m2\u001b[0m\n\u001b[0;31m    for i in range (0,3):\u001b[0m\n\u001b[0m      ^\u001b[0m\n\u001b[0;31mSyntaxError\u001b[0m\u001b[0;31m:\u001b[0m invalid syntax\n"
          ]
        }
      ]
    }
  ]
}