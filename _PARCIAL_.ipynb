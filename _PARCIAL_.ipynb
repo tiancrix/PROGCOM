{
  "nbformat": 4,
  "nbformat_minor": 0,
  "metadata": {
    "colab": {
      "provenance": []
    },
    "kernelspec": {
      "name": "python3",
      "display_name": "Python 3"
    },
    "language_info": {
      "name": "python"
    }
  },
  "cells": [
    {
      "cell_type": "code",
      "execution_count": null,
      "metadata": {
        "id": "6W_om1ySxTEN"
      },
      "outputs": [],
      "source": [
        "menu={\"Electrodomesticos\":{\"Televisor\":300,\n",
        "                           \"Licuadora\":90,\n",
        "                           \"Cafetera\":20},\n",
        "      \"Frutas\":{\"Brocoli\":2,\n",
        "                \"Pera\":3,\n",
        "                \"Piña\":5},\n",
        "      \n",
        "      \"Ropa\":{\"Camisilla\":20,\n",
        "              \"Jean\":35,\n",
        "              \"Zapatos\":270}}\n",
        "\n",
        "pedido = []\n",
        "\n",
        "for i in menu.items():\n",
        "  print(i)\n",
        "  print()\n",
        "\n",
        "class Productos():\n",
        "  def __init__(self,nombre,categoria,cant):\n",
        "    self.nombre=nombre\n",
        "    self.categoria=categoria\n",
        "    self.cant=cant\n",
        "    \n",
        "  def agregar(self):\n",
        "    pedido.append(f\"producto= {self.nombre} categoria =  {self.categoria} cantidad= {self.cant}\")\n",
        "    print(f\"------Recibo------\\n{pedido}\")\n",
        "\n",
        "  def recibo(self):\n",
        "    a = menu.get(categoria)\n",
        "    b = a.get(nombre_producto)\n",
        "    precio= b*cantidad\n",
        "    if precio >= 200:\n",
        "      iva = precio * 0.05\n",
        "      precio = precio + iva\n",
        "    print(f\"El valor a pagar es: {precio} Dolares\")\n",
        "    \n",
        "\n",
        "nombre_producto= input(\"Nombre:  \")\n",
        "categoria=input(\"Categoria:  \")\n",
        "cantidad= int(input(\"Cantidad: \"))\n",
        "\n",
        "\n",
        "producto1=Productos(nombre_producto,categoria,cantidad)\n",
        "producto1.agregar()\n",
        "producto1.recibo()"
      ]
    }
  ]
}