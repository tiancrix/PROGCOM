{
  "nbformat": 4,
  "nbformat_minor": 0,
  "metadata": {
    "colab": {
      "provenance": []
    },
    "kernelspec": {
      "name": "python3",
      "display_name": "Python 3"
    },
    "language_info": {
      "name": "python"
    }
  },
  "cells": [
    {
      "cell_type": "code",
      "source": [
        "POO o programación orientada a objetos.\n",
        "Clase es como un molde\n",
        "\n",
        "Variables --> Atributos.\n",
        "Funciones --> Métodos.\n",
        "Constructor --> Constituye una clase.\n",
        "Objetos: Comparten atributos, métodos, relaciones que tienen una identidad propia.\n",
        "class Mascotas:\n",
        "  pass\n",
        "a=Mascotas\n",
        "b=Mascotas\n",
        "if a==b:\n",
        "  print(\"Son igualitos\")\n",
        "else:\n",
        "  print(\"Son igualitos\")\n",
        "Son igualitos\n",
        "class Empleado():\n",
        "  #Construyendo un constructor\n",
        "  def __init__(self, nombre, edad, ID, salario):\n",
        "    self.nombre=nombre\n",
        "    self.edad=edad\n",
        "    self.ID=ID\n",
        "    self.salario=salario\n",
        "\n",
        "def __repr__(self):\n",
        "  return f\"nombre: {self.nombre}, edad: {self.edad}, ID: {self.ID}. salario {self.salario}\"\n",
        "Sonia=Empleado(\"Sonia\",25,\"U00152314\",10000000)\n",
        "print(Sonia)\n",
        "<__main__.Empleado object at 0x7ff246f6d090>\n",
        "Sonia.__dict__\n",
        "{'nombre': 'Sonia', 'edad': 25, 'ID': 'U00152314', 'salario': 10000000}\n",
        "madaniel=Empleado(\"Pirulais\",83,\"U001512345\", 1000000)\n",
        "if Sonia.salario==madaniel.salario:\n",
        "  print(f\"El salario de {madaniel.nombre} y {Sonia.nombre} son iguales\")\n",
        "elif Sonia.salario>madaniel.salario:\n",
        "  print(f\"El salario de {madaniel.nombre} es menor al de {Sonia.nombre}\")\n",
        "else:\n",
        "  print(f\"El salario de {madaniel.nombre} es mayor al de {Sonia.salario}\")\n",
        "El salario de Pirulais es menor al de Sonia\n",
        "Ejercicio Calculadora\n",
        "class Fraccion:\n",
        "  #Atributos de clase\n",
        "  num=0\n",
        "  den=1\n",
        "\n",
        "  #Creando el constructor\n",
        "  def __init__(self,num=0,den=1):\n",
        "    self.num=num\n",
        "    self.den=den\n",
        "  def multiplica(self,b):\n",
        "    num=self.num*b.num\n",
        "    den=self.den*b.den\n",
        "    r=Fraccion(num,den)\n",
        "    return r\n",
        "  def imprime(self):\n",
        "    print(self.num, \"/\", self.den)\n",
        "#Creando ojetos tipo fracción\n",
        "a1=Fraccion(4,5)\n",
        "a2=Fraccion(8,9)\n",
        "a1.imprime()\n",
        "a2.imprime()\n",
        "4 / 5\n",
        "8 / 9\n",
        "c=a1.multiplica(a2)\n",
        "c.imprime()\n",
        "32 / 45\n",
        "type(c)\n",
        "__main__.Fraccion"
      ],
      "metadata": {
        "id": "VcuTLJU8Vpnd"
      },
      "execution_count": null,
      "outputs": []
    }
  ]
}