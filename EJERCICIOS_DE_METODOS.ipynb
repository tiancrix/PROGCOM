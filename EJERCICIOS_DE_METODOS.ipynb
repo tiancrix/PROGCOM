{
  "nbformat": 4,
  "nbformat_minor": 0,
  "metadata": {
    "colab": {
      "provenance": [],
      "collapsed_sections": []
    },
    "kernelspec": {
      "name": "python3",
      "display_name": "Python 3"
    },
    "language_info": {
      "name": "python"
    }
  },
  "cells": [
    {
      "cell_type": "markdown",
      "source": [
        "1. Determine el mayor de dos números"
      ],
      "metadata": {
        "id": "TccTK8Q5p0q2"
      }
    },
    {
      "cell_type": "code",
      "source": [
        "def npc(a,b):\n",
        "  if a>b:\n",
        "    return a\n",
        "  return b"
      ],
      "metadata": {
        "id": "9UN_jqtLp3-B"
      },
      "execution_count": null,
      "outputs": []
    },
    {
      "cell_type": "code",
      "source": [
        "print(npc(4,8))"
      ],
      "metadata": {
        "colab": {
          "base_uri": "https://localhost:8080/"
        },
        "id": "lgcvPfi5qFGo",
        "outputId": "5d8afcc8-5de2-4108-9c33-940000aa51f2"
      },
      "execution_count": null,
      "outputs": [
        {
          "output_type": "stream",
          "name": "stdout",
          "text": [
            "8\n"
          ]
        }
      ]
    },
    {
      "cell_type": "markdown",
      "source": [
        "2. Determine el mayor de tres números (empleando la función anterior)."
      ],
      "metadata": {
        "id": "mzCinog_qTim"
      }
    },
    {
      "cell_type": "code",
      "source": [
        "def npc(a,b,c):\n",
        "  if a>b and a>c:\n",
        "    print(f\" {a} es el mayor\")\n",
        "  elif b>c and b>a:\n",
        "    print(f\" {b} es el mayor\")\n",
        "  else:\n",
        "    print(c, \"es el mayor\")"
      ],
      "metadata": {
        "id": "C2UQ4YybqY0h"
      },
      "execution_count": 13,
      "outputs": []
    },
    {
      "cell_type": "code",
      "source": [
        "print(npc(10,5,8))"
      ],
      "metadata": {
        "colab": {
          "base_uri": "https://localhost:8080/"
        },
        "id": "NixQQ3NQ0Cgv",
        "outputId": "7f837482-d74b-4c21-ff0c-f85aaa6cf60b"
      },
      "execution_count": 14,
      "outputs": [
        {
          "output_type": "stream",
          "name": "stdout",
          "text": [
            " 10 es el mayor\n",
            "None\n"
          ]
        }
      ]
    },
    {
      "cell_type": "markdown",
      "source": [
        "3. Sumar los números de una lista de 3 elementos. Ejemplo [3,4,5]. Salida: 12"
      ],
      "metadata": {
        "id": "7w36M7x3rW_Z"
      }
    },
    {
      "cell_type": "code",
      "source": [
        "def op():\n",
        "    x=0\n",
        "    lista=[5,4,3]\n",
        "    for n in lista:\n",
        "        x=x+n\n",
        "    return print(x)\n",
        "op()"
      ],
      "metadata": {
        "id": "dLXQVDKMrX1A",
        "colab": {
          "base_uri": "https://localhost:8080/"
        },
        "outputId": "0935af86-48e2-4a85-826d-f255e56a1927"
      },
      "execution_count": 15,
      "outputs": [
        {
          "output_type": "stream",
          "name": "stdout",
          "text": [
            "12\n"
          ]
        }
      ]
    },
    {
      "cell_type": "markdown",
      "source": [
        "4. Sumar los números de una lista de 4 elementos. Ejemplo [3,4,5,6]. Salida: 18"
      ],
      "metadata": {
        "id": "xwzQV9G6ra5p"
      }
    },
    {
      "cell_type": "code",
      "source": [
        "def op():\n",
        "    x=0\n",
        "    lista=[5,4,3,6]\n",
        "    for n in lista:\n",
        "        x=x+n\n",
        "    return print(x)\n",
        "op()"
      ],
      "metadata": {
        "id": "EJFVBrk9rbjg",
        "colab": {
          "base_uri": "https://localhost:8080/"
        },
        "outputId": "d303c2f7-3d88-4c19-dde6-a0a005b77eae"
      },
      "execution_count": 16,
      "outputs": [
        {
          "output_type": "stream",
          "name": "stdout",
          "text": [
            "18\n"
          ]
        }
      ]
    },
    {
      "cell_type": "markdown",
      "source": [
        "5. Sumar todos los números de una lista. Ejemplo: (8,5,3,1). Salida: 17"
      ],
      "metadata": {
        "id": "XYD_UBj8rd8I"
      }
    },
    {
      "cell_type": "code",
      "source": [
        "def op():\n",
        "    x=0\n",
        "    lista=[5,4,3,2,5,4,3]\n",
        "    for n in lista:\n",
        "        x=x+n\n",
        "    return print(x)\n",
        "op()"
      ],
      "metadata": {
        "id": "GbHPr69orelg",
        "colab": {
          "base_uri": "https://localhost:8080/"
        },
        "outputId": "2648d4dc-d0ea-4c83-ef85-54c24b3ef211"
      },
      "execution_count": 17,
      "outputs": [
        {
          "output_type": "stream",
          "name": "stdout",
          "text": [
            "26\n"
          ]
        }
      ]
    },
    {
      "cell_type": "markdown",
      "source": [
        "6. Multiplicar los números de una lista de 3 elementos. Ejemplo [0,4,5]. Salida: 0"
      ],
      "metadata": {
        "id": "hrkpnlwjrghA"
      }
    },
    {
      "cell_type": "code",
      "source": [
        "def op():\n",
        "    x=1\n",
        "    lista=[5,4,3]\n",
        "    for n in lista:\n",
        "        x=n*x\n",
        "    return print(x)\n",
        "op()"
      ],
      "metadata": {
        "id": "m6Gf9vE9ri54",
        "colab": {
          "base_uri": "https://localhost:8080/"
        },
        "outputId": "8e115c46-04db-4008-993d-b1466da230df"
      },
      "execution_count": 18,
      "outputs": [
        {
          "output_type": "stream",
          "name": "stdout",
          "text": [
            "60\n"
          ]
        }
      ]
    },
    {
      "cell_type": "markdown",
      "source": [
        "7. Multiplicar los números de una lista de 4 elementos. Ejemplo [3,4,5,1]. Salida: 60"
      ],
      "metadata": {
        "id": "KGfDnGNRrjD4"
      }
    },
    {
      "cell_type": "code",
      "source": [
        "def op():\n",
        "    x=1\n",
        "    lista=[5,4,3,50]\n",
        "    for n in lista:\n",
        "        x=n*x\n",
        "    return print(x)\n",
        "op()"
      ],
      "metadata": {
        "id": "ehkDI7o4rjkQ",
        "colab": {
          "base_uri": "https://localhost:8080/"
        },
        "outputId": "185ac1c5-2064-417e-9eae-5bd473823837"
      },
      "execution_count": 19,
      "outputs": [
        {
          "output_type": "stream",
          "name": "stdout",
          "text": [
            "3000\n"
          ]
        }
      ]
    },
    {
      "cell_type": "markdown",
      "source": [
        "8. Multiplicar todos los números de una lista. Ejemplo: (1,2,3,-1). Salida: -6"
      ],
      "metadata": {
        "id": "7ni-IevLrjuA"
      }
    },
    {
      "cell_type": "code",
      "source": [
        "def op():\n",
        "    x=1\n",
        "    lista=[5,4,3,50,100,-1]\n",
        "    for n in lista:\n",
        "        x=n*x\n",
        "    return print(x)\n",
        "op()"
      ],
      "metadata": {
        "id": "A3Jm_pGirld4",
        "colab": {
          "base_uri": "https://localhost:8080/"
        },
        "outputId": "2fca186c-6aeb-47aa-8f9b-b810a1d3a96e"
      },
      "execution_count": 20,
      "outputs": [
        {
          "output_type": "stream",
          "name": "stdout",
          "text": [
            "-300000\n"
          ]
        }
      ]
    },
    {
      "cell_type": "markdown",
      "source": [
        "9. Invierta un String. Ejemplo: ingresa Hola y retorna aloH"
      ],
      "metadata": {
        "id": "6-dk9bKKrnGg"
      }
    },
    {
      "cell_type": "code",
      "source": [
        "def invertir_cadena_manual(cadena): \n",
        "    cadena_invertida = \"\" \n",
        "    for letra in cadena: \n",
        "        cadena_invertida = letra + cadena_invertida \n",
        "    return cadena_invertida \n",
        " \n",
        " \n",
        "print(invertir_cadena_manual(\"Voy a pasar Cálculo\"))"
      ],
      "metadata": {
        "id": "06579G1GrqKQ",
        "colab": {
          "base_uri": "https://localhost:8080/"
        },
        "outputId": "75ae0c96-a223-4fbb-cfe3-cd269e6b9795"
      },
      "execution_count": 21,
      "outputs": [
        {
          "output_type": "stream",
          "name": "stdout",
          "text": [
            "olucláC rasap a yoV\n"
          ]
        }
      ]
    },
    {
      "cell_type": "markdown",
      "source": [
        "10. Calcular el factorial de un número"
      ],
      "metadata": {
        "id": "s8glVfqprpPw"
      }
    },
    {
      "cell_type": "code",
      "source": [
        "def factorial(u): \n",
        "    if u <= 0: \n",
        "        return 1 \n",
        "    factorial = 1 \n",
        "    while u > 0: \n",
        "        factorial = factorial * u\n",
        "        u -= 1 \n",
        "    return factorial \n",
        "v = 8\n",
        "f = factorial(v) \n",
        "print(f\"El factorial de {v} es {f}\")"
      ],
      "metadata": {
        "id": "CGpcXThSsSTQ",
        "colab": {
          "base_uri": "https://localhost:8080/"
        },
        "outputId": "b1b3c3c7-0c30-480d-83cf-b1a00e51e9fe"
      },
      "execution_count": 22,
      "outputs": [
        {
          "output_type": "stream",
          "name": "stdout",
          "text": [
            "El factorial de 8 es 40320\n"
          ]
        }
      ]
    },
    {
      "cell_type": "markdown",
      "source": [
        "11. Si un número está dentro de un rango"
      ],
      "metadata": {
        "id": "5hjPKFloruMQ"
      }
    },
    {
      "cell_type": "code",
      "source": [
        "def npc(a,b):\n",
        "  if a>b:\n",
        "    r=a-b\n",
        "    print(f\" {r} es el rango\")\n",
        "  else:\n",
        "    r=b-a\n",
        "    print(r, \"es el rango\")"
      ],
      "metadata": {
        "id": "9eHob-G8sSxA"
      },
      "execution_count": null,
      "outputs": []
    },
    {
      "cell_type": "code",
      "source": [
        "print(npc(3,10))"
      ],
      "metadata": {
        "id": "615tWb1gDXpi"
      },
      "execution_count": null,
      "outputs": []
    },
    {
      "cell_type": "markdown",
      "source": [
        "12. Capture el número de mayúsculas y minúsculas en una oración"
      ],
      "metadata": {
        "id": "LpZBiRK1ru3A"
      }
    },
    {
      "cell_type": "code",
      "source": [],
      "metadata": {
        "id": "t5TiXbjhsTiw"
      },
      "execution_count": null,
      "outputs": []
    },
    {
      "cell_type": "markdown",
      "source": [
        "13. El ejercicio anterior, pero almacene los resultados en un diccionario."
      ],
      "metadata": {
        "id": "sHJ7xpu-rvQ4"
      }
    },
    {
      "cell_type": "code",
      "source": [],
      "metadata": {
        "id": "7KAOv1XNsUQo"
      },
      "execution_count": null,
      "outputs": []
    },
    {
      "cell_type": "markdown",
      "source": [
        "14. Reciba una lista y retorne sólo los elementos pares"
      ],
      "metadata": {
        "id": "k7bOuZPsrvh5"
      }
    },
    {
      "cell_type": "code",
      "source": [
        "def op():\n",
        "    x=1\n",
        "    lista=[5,4,3,50]\n",
        "    for n in lista:\n",
        "        if n == n:\n",
        "          \n",
        "    return print(x)\n",
        "op()"
      ],
      "metadata": {
        "id": "v2LXoSSEsUug"
      },
      "execution_count": null,
      "outputs": []
    },
    {
      "cell_type": "markdown",
      "source": [
        "15. Reciba una lista y retorne sólo los elementos de posición impar"
      ],
      "metadata": {
        "id": "dV1FQVmWr7h5"
      }
    },
    {
      "cell_type": "code",
      "source": [],
      "metadata": {
        "id": "6-pEeJV_sVUA"
      },
      "execution_count": null,
      "outputs": []
    },
    {
      "cell_type": "markdown",
      "source": [
        "16. Recibir un número y decir si es perfecto o no. Ejemplo: 6 es perfecto, porque la suma de sus\n",
        "divisores es 6 (1+2+3)"
      ],
      "metadata": {
        "id": "HIOrbAnnr7y4"
      }
    },
    {
      "cell_type": "code",
      "source": [
        "ent=int(input())\n",
        "\n",
        "def perfect():\n",
        "\n",
        "  for i in range(2, ent):\n",
        "     b=0\n",
        "     for j in range(1, (i//2)+1):\n",
        "         if((i%j)==0):\n",
        "             b= b+j;\n",
        "     if(b==i):\n",
        "         print(\"perfecto\")\n",
        "  else:\n",
        "     print(\"no perfecto\")"
      ],
      "metadata": {
        "id": "LZ0MAS7IsV8g",
        "colab": {
          "base_uri": "https://localhost:8080/"
        },
        "outputId": "c1210804-f569-4e30-9e86-635a3cf99ff2"
      },
      "execution_count": 24,
      "outputs": [
        {
          "name": "stdout",
          "output_type": "stream",
          "text": [
            "7\n"
          ]
        }
      ]
    },
    {
      "cell_type": "markdown",
      "source": [
        "17. Chequear si una palabra es palíndromo o no. Ejemplo: “Ana” es un palíndromo"
      ],
      "metadata": {
        "id": "hmE7gL55r8pI"
      }
    },
    {
      "cell_type": "code",
      "source": [
        "\n",
        "user1=str(input(\"Ingrese una palabra: \"))\n",
        "user1=user1.lower()\n",
        "val1=list(user1)\n",
        "val2=val1\n",
        "val2.reverse()\n",
        "def prueba ():\n",
        "    val1=list(user1)\n",
        "    for i in range(0,len(val1)):\n",
        "        counter=0\n",
        "        for j in range(0,len(val1)):\n",
        "            if val1[i] == val2[i]:\n",
        "                counter+=1\n",
        "            else:\n",
        "                counter=counter\n",
        "    if counter==len(val1):\n",
        "        print(\"La palabra es un palíndromo\")\n",
        "    else:\n",
        "        print(\"La palabra no es un palíndromo\")\n",
        "            \n",
        "        return;\n",
        "prueba();"
      ],
      "metadata": {
        "id": "tdHK9xaksWRw",
        "colab": {
          "base_uri": "https://localhost:8080/"
        },
        "outputId": "fa1a0fd8-40ef-4f20-89b7-fad7d439aaf0"
      },
      "execution_count": 25,
      "outputs": [
        {
          "output_type": "stream",
          "name": "stdout",
          "text": [
            "Ingrese una palabra: hola\n",
            "La palabra no es un palíndromo\n"
          ]
        }
      ]
    },
    {
      "cell_type": "markdown",
      "source": [
        "18. Imprimir la fila n del triángulo de pascal"
      ],
      "metadata": {
        "id": "IuB82HaHr83o"
      }
    },
    {
      "cell_type": "code",
      "source": [],
      "metadata": {
        "id": "0oJOSoi6sWro"
      },
      "execution_count": null,
      "outputs": []
    },
    {
      "cell_type": "markdown",
      "source": [
        "19. Imprimir una frase tipo oración. Ejemplo: Ingresa: esta es una oración e imprime Esta es una\n",
        "oración."
      ],
      "metadata": {
        "id": "tKFQDXs0r9Hg"
      }
    },
    {
      "cell_type": "code",
      "source": [],
      "metadata": {
        "id": "3B0rhTKksXX4"
      },
      "execution_count": null,
      "outputs": []
    },
    {
      "cell_type": "markdown",
      "source": [
        "20. Acepte palabras separadas por – y las ordene alfabéticamente.\n",
        "Ejemplo: ingresa verde-rojo-amarillo-blanco-negro\n",
        "Regresa: amarillo-blanco-negro-rojo-verde"
      ],
      "metadata": {
        "id": "InNIJ4FEr9Zo"
      }
    },
    {
      "cell_type": "code",
      "source": [],
      "metadata": {
        "id": "Y9AZDBHNsX1g"
      },
      "execution_count": null,
      "outputs": []
    }
  ]
}