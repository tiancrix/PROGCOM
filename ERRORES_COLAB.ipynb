{
  "nbformat": 4,
  "nbformat_minor": 0,
  "metadata": {
    "colab": {
      "provenance": []
    },
    "kernelspec": {
      "name": "python3",
      "display_name": "Python 3"
    },
    "language_info": {
      "name": "python"
    }
  },
  "cells": [
    {
      "cell_type": "markdown",
      "source": [
        "#Cosas que se pueden hacer en Python pero Colab no ejecuta\n",
        "\n",
        "\n",
        "1.  Crackear contraseñas.\n",
        "2.  Necesario tener una GPU de google para programar.\n",
        "3. Colab necesita tener flexibilidad para ajustar dinámicamente los límites de uso y la disponibilidad de hardware.\n",
        "4. No se puede ejercutar sin conexión.\n",
        "5. Usar un escritorio remoto o SSH.\n",
        "6. Conectarse a proxies remotos.\n",
        "7. Minar criptomonedas.\n",
        "8. Ejecutar ataques de denegación de servicio.\n",
        "9. Eludir las restricciones de acceso o de uso de recursos.\n",
        "10. No se ejecutan algunos entornos de programación (Interfaces gráficas).\n",
        "11. Crear ultrafalsos.\n",
        "12. Alojar archivos, servir contenido multimedia u ofrecer otros servicios web que no estén relacionados con la computación interactiva de Colab.\n",
        "13. Descargar torrents o compartir archivos de punto a punto.\n",
        "14. Pérdida de información en caso de algún fallo con la red o apagón.\n",
        "15. Las operaciones de Google Drive pueden agotar el tiempo de espera cuando el número de archivos o subcarpetas de una carpeta se vuelve demasiado grande, sin superar el límite necesariamente.\n",
        "16. Crear ultrafalsos.\n",
        "17. Número máximo de operaciones por usuario y por archivo, y cuotas de ancho de banda.\n",
        "\n",
        "18. No poder identificar o llamar en algunos casos algún tipo de librería importada.\n",
        "19. Error al guardar información pasada y no permite llamar alguna variable, o arroja error, luego, se debe desconectar el entorno de ejecución.\n",
        "\n",
        "20. Cuota de almacenamiento limitada."
      ],
      "metadata": {
        "id": "HZ0LLuom8MWS"
      }
    }
  ]
}