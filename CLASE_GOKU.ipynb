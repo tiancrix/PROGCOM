{
  "nbformat": 4,
  "nbformat_minor": 0,
  "metadata": {
    "colab": {
      "provenance": []
    },
    "kernelspec": {
      "name": "python3",
      "display_name": "Python 3"
    },
    "language_info": {
      "name": "python"
    }
  },
  "cells": [
    {
      "cell_type": "code",
      "execution_count": 2,
      "metadata": {
        "id": "v3BKdM0KBlBo"
      },
      "outputs": [],
      "source": [
        "class Sayayin():\n",
        "  def __init__(self,nombre,cabello,ojos,fuerza,estatura,cola_de_mono):\n",
        "    self._cabello=\"Negro\"\n",
        "    self._ojos=\"Negros\"\n",
        "    self.__fuerza=fuerza\n",
        "    self._estatura=estatura\n",
        "    self._cola_de_mono=True\n",
        "    self._nombre=nombre\n",
        "\n",
        "  def color_cabello(self,fuerza_base):\n",
        "    fuerza_t=90000\n",
        "    if fuerza_base*10>=fuerza_t:\n",
        "      print(\"Alcanza nivel sayayin fase 1\")\n",
        "      self.cabello=\"rubio\"\n",
        "    elif fuerza_base*20>=fuerza_t*20:\n",
        "       print(\"Alcanza nivel sayayin fase 2\")\n",
        "       self.cabello=\"rubio\"\n",
        "    elif fuerza_base*1000>=fuerza_t*1000:\n",
        "       print(\"Alcanza nivel sayayin fase 4\")\n",
        "       self.cabello=\"negro\"\n",
        "    if self.cola==False:\n",
        "        self.cola=True\n",
        "    else:\n",
        "      print(\"Alcanza nivel sayayin ultrainstinto\")\n",
        "      self.cabello=\"Cenizo\"\n",
        "\n",
        "  def luna(self,luna): \n",
        "    if self.cola and luna==\"luna llena\":\n",
        "      print(self.nombre,\"se convierte en ozaru\")  \n",
        "      self.fuerza=self.fuerza*50\n",
        "    else:\n",
        "      print(self.nombre,\"No se trasnforma en nada\")   \n",
        "  \n",
        "  def trabajo(self,trabajo):\n",
        "    if trabajo==1:\n",
        "      print(f\"{self.nombre} es de tipo guerrero\")   \n",
        "    elif trabajo==2:\n",
        "      print(f\"{self.nombre} es de tipo liendra de freezer\")\n",
        "    elif trabajo==3:\n",
        "      print(f\"{self.nombre} es de tipo mercenarios\")\n",
        "    else:\n",
        "      print(f\"{self.nombre} es de la realeza \")"
      ]
    },
    {
      "cell_type": "code",
      "source": [
        "class Humano():\n",
        "  def __init__(self,nombre,cabello,ojos,fuerza,estatura):\n",
        "    self.cabello=cabello\n",
        "    self.ojos=ojos\n",
        "    self.fuerza=fuerza\n",
        "    self.estatura=estatura\n",
        "  def coloc_cabello(self,tinte):\n",
        "    if tinte==0:\n",
        "      print(self.nombre,\"Se ha descolorado el cabello\")\n",
        "      self.cabello=\"Amarillo\"\n",
        "    elif tinte==2:\n",
        "      print(self.nombre,\"ha colorado su cabello de lila\")\n",
        "      self.cabello=\"Lila\"    \n",
        "    elif tinte==3:\n",
        "      print(self.nombre,\"ha colorado su cabello nuez\")\n",
        "      self.cabello=\"Nuez\"  \n",
        "    else:\n",
        "      print(self.nombre,\"ha colorado su cabello canoso\")\n",
        "      self.cabello=\"Canoso\" \n",
        "\n",
        "  def trabajo(self,trabajo):   \n",
        "    if trabajo==0:\n",
        "      print(f\"{self.nombre} trabaja como callcenter\")\n",
        "    elif trabajo==2:\n",
        "      print(f\"{self.nombre} trabaja como vendedor de bonice\")    \n",
        "    elif trabajo==3:\n",
        "      print(f\"{self.nombre} trabaja como tombo\") \n",
        "    elif trabajo==4:\n",
        "      print(f\"{self.nombre}trabaja programador python\")   \n",
        "    else:\n",
        "      print(f\"{self.nombre} es nini\")\n"
      ],
      "metadata": {
        "id": "nnkLs-yhBwi2"
      },
      "execution_count": 6,
      "outputs": []
    },
    {
      "cell_type": "code",
      "source": [
        "class Hibrido(Sayayin,Humano):\n",
        "  def __init__(self,trabajo):\n",
        "  \n",
        "    super()\n",
        "    self.trabajo=trabajo"
      ],
      "metadata": {
        "id": "AXRv4VQRB7x7"
      },
      "execution_count": 7,
      "outputs": []
    },
    {
      "cell_type": "code",
      "source": [
        "goku=Sayayin(\"Kakaoroto\", \"arcoíris\", \"verde-dorado\",100,50,True)\n",
        "goku.__dict__"
      ],
      "metadata": {
        "colab": {
          "base_uri": "https://localhost:8080/"
        },
        "id": "ks9w0vGlCSNs",
        "outputId": "d3e5929c-8e2a-4da2-edf9-4a060a534be4"
      },
      "execution_count": 8,
      "outputs": [
        {
          "output_type": "execute_result",
          "data": {
            "text/plain": [
              "{'_cabello': 'Negro',\n",
              " '_ojos': 'Negros',\n",
              " '_Sayayin__fuerza': 100,\n",
              " '_estatura': 50,\n",
              " '_cola_de_mono': True,\n",
              " '_nombre': 'Kakaoroto'}"
            ]
          },
          "metadata": {},
          "execution_count": 8
        }
      ]
    },
    {
      "cell_type": "code",
      "source": [
        "goku.__fuerza=50000\n",
        "goku.__dict__"
      ],
      "metadata": {
        "colab": {
          "base_uri": "https://localhost:8080/"
        },
        "id": "eEvzwzguCUgM",
        "outputId": "e4088ebc-6b64-4a93-89d5-5e1ece6641ff"
      },
      "execution_count": 9,
      "outputs": [
        {
          "output_type": "execute_result",
          "data": {
            "text/plain": [
              "{'_cabello': 'Negro',\n",
              " '_ojos': 'Negros',\n",
              " '_Sayayin__fuerza': 100,\n",
              " '_estatura': 50,\n",
              " '_cola_de_mono': True,\n",
              " '_nombre': 'Kakaoroto',\n",
              " '__fuerza': 50000}"
            ]
          },
          "metadata": {},
          "execution_count": 9
        }
      ]
    },
    {
      "cell_type": "code",
      "source": [
        "milk=Humano(\"Milk\",\"negros\",\"negro\",100,50)\n",
        "milk.__dict__"
      ],
      "metadata": {
        "colab": {
          "base_uri": "https://localhost:8080/"
        },
        "id": "lHu6Ms1TCWAk",
        "outputId": "c5d1aa32-f09e-4094-d9b7-7f59af1b3d84"
      },
      "execution_count": 10,
      "outputs": [
        {
          "output_type": "execute_result",
          "data": {
            "text/plain": [
              "{'cabello': 'negros', 'ojos': 'negro', 'fuerza': 100, 'estatura': 50}"
            ]
          },
          "metadata": {},
          "execution_count": 10
        }
      ]
    }
  ]
}