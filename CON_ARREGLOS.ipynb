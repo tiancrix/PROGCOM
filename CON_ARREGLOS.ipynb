{
  "nbformat": 4,
  "nbformat_minor": 0,
  "metadata": {
    "colab": {
      "provenance": []
    },
    "kernelspec": {
      "name": "python3",
      "display_name": "Python 3"
    },
    "language_info": {
      "name": "python"
    }
  },
  "cells": [
    {
      "cell_type": "code",
      "execution_count": null,
      "metadata": {
        "id": "GPsxTUsCtSfG"
      },
      "outputs": [],
      "source": [
        "import random\n",
        "\n",
        "opciones = [\"piedra\", \"papel\", \"tijera\", \"spock\", \"lagarto\", \"papa\", \"heavy\"]\n",
        "jugador = input(\"Escoge uno: \").lower()\n",
        "pc = random.choice(opciones)\n",
        "if jugador == pc:\n",
        " print(f\"Empate, la pc eligió {pc}\")\n",
        "elif jugador == \"piedra\" and pc == \"tijera\":\n",
        "  print(f\"Ganaste, la pc eligió {pc}\")\n",
        "elif jugador == \"papel\" and pc == \"piedra\":\n",
        "  print(f\"Ganaste, la pc eligió {pc}\")\n",
        "elif jugador == \"tijera\" and pc == \"papel\":\n",
        "  print(f\"Ganaste, la pc eligió {pc}\")\n",
        "elif jugador == \"lagarto\" and pc == \"spock\":\n",
        "  print(f\"Ganaste, la pc eligió {pc}\")\n",
        "elif jugador == \"spock\" and pc == \"tijera\":\n",
        "  print(f\"Ganaste, la pc eligió {pc}\")\n",
        "elif jugador == \"papel\" and pc == \"spock\":\n",
        "  print(f\"Ganaste, la pc eligió {pc}\")\n",
        "elif jugador == \"tijera\" and pc == \"lagarto\":\n",
        "  print(f\"Ganaste, la pc eligió {pc}\")\n",
        "elif jugador == \"lagarto\" and pc == \"papel\":\n",
        "  print(f\"Ganaste, la pc eligió {pc}\")\n",
        "elif jugador == \"spock\" and pc == \"piedra\":\n",
        "  print(f\"Ganaste, la pc eligió {pc}\")\n",
        "elif jugador == \"heavy\" and pc == \"lagarto\":\n",
        "  print(f\"Ganaste, la pc eligió {pc}\")\n",
        "elif jugador == \"heavy\" and pc == \"papa\":\n",
        "  print(f\"Ganaste, la pc eligió {pc}\")\n",
        "elif jugador == \"papa\" and pc == \"piedra\":\n",
        "  print(f\"Ganaste, la pc eligió {pc}\")\n",
        "elif jugador == \"papa\" and pc == \"papel\":\n",
        "  print(f\"Ganaste, la pc eligió {pc}\")\n",
        "else:\n",
        "  print(f\"Perdiste, la pc eligió {pc}\")"
      ]
    }
  ]
}