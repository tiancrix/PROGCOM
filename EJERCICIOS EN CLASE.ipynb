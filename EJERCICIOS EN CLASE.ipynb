{
  "nbformat": 4,
  "nbformat_minor": 0,
  "metadata": {
    "colab": {
      "name": "Untitled0.ipynb",
      "provenance": []
    },
    "kernelspec": {
      "name": "python3",
      "display_name": "Python 3"
    },
    "language_info": {
      "name": "python"
    }
  },
  "cells": [
    {
      "cell_type": "code",
      "execution_count": null,
      "metadata": {
        "id": "-iWP-hCSncv-"
      },
      "outputs": [],
      "source": [
        "#Realizar la tabla del n del 1 al 10\n",
        "n=0\n",
        "while n<11:\n",
        "  n=n+1\n",
        "  #n=int(input(\"Ingrese un número para generar su tabla de multiplicar. \"))\n",
        "  print(\"Tabla del\",n)\n",
        "\n",
        "  for i in range(1,11):\n",
        "    print(f\"{n}*{i}=\",n*i)\n",
        "  print(\"\")"
      ]
    },
    {
      "cell_type": "code",
      "source": [
        "#Hacer un arbol con un digito\n",
        "a=int(input(\"Que altura debe tener el arbol? \"))\n",
        "n=\"*\"\n",
        "b=a\n",
        "c=1\n",
        "for i in range (1,a,1):\n",
        "  print(\" \"*b,n*(c))\n",
        "  b=b-1\n",
        "  c=c+2"
      ],
      "metadata": {
        "id": "rARI55dBn6if"
      },
      "execution_count": null,
      "outputs": []
    },
    {
      "cell_type": "code",
      "source": [
        "#7\n",
        "n=100\n",
        "a=0\n",
        "while n<101 and n>=10:\n",
        "  print(n,\"+\")\n",
        "  a=a+n\n",
        "  n=n-10\n",
        "  if n==0:\n",
        "    break\n",
        "print(\"Resultado:\",a)"
      ],
      "metadata": {
        "id": "_orsEHnMoQ-z"
      },
      "execution_count": null,
      "outputs": []
    },
    {
      "cell_type": "code",
      "source": [
        "#9\n",
        "n=int(input(\"Ingrese N: \"))\n",
        "a=2\n",
        "b=1\n",
        "i=1\n",
        "d=0\n",
        "while i<n:\n",
        "  print(f\"{a}/{b}+\")\n",
        "  c=d+d\n",
        "  d=a/b\n",
        "  i=i+1\n",
        "  a=a+2\n",
        "  b=b+2\n",
        "  if i==n:\n",
        "    break\n",
        "\n",
        "print(\"Resultado:\",c)"
      ],
      "metadata": {
        "id": "L0GQmRLSovfh"
      },
      "execution_count": null,
      "outputs": []
    },
    {
      "cell_type": "code",
      "source": [
        "#10\n",
        "n=int(input(\"Ingrese un número entre 1 y 10: \"))\n",
        "a=0\n",
        "while n<=10 and n>=1:\n",
        "  a=a+n\n",
        "  n=int(input(\"Ingrese un número entre 1 y 10: \"))\n",
        "  \n",
        "print(a)"
      ],
      "metadata": {
        "id": "9UgfUZ-no4ex"
      },
      "execution_count": null,
      "outputs": []
    },
    {
      "cell_type": "code",
      "source": [
        "#6 - Realizar la tabla del n del 1 al 10\n",
        "n=int(input(\"Ingrese un número para escribir su tabla: \"))\n",
        "print(\"Tabla del\",n)\n",
        "for i in range(1,11):\n",
        "  print(f\"{n}*{i}=\",n*i)"
      ],
      "metadata": {
        "id": "U0atqMdopCnA"
      },
      "execution_count": null,
      "outputs": []
    },
    {
      "cell_type": "code",
      "source": [
        "n=int(input(\"Ingrese un número para escribir su tabla: \"))\n",
        "i=1\n",
        "print(\"Tabla del\",n)\n",
        "while i>0:\n",
        "  print(f\"{n}*{i}=\",n*i)\n",
        "  i=i+1\n",
        "  if i==11:\n",
        "    break"
      ],
      "metadata": {
        "id": "rmM-JfctpHiP"
      },
      "execution_count": null,
      "outputs": []
    },
    {
      "cell_type": "code",
      "source": [
        "#3\n",
        "n=int(input(\"Ingrese un número: \"))\n",
        "factorial=1\n",
        "if n<0:\n",
        "  print(\"No hay factorial para números negativos\")\n",
        "else:\n",
        "  if n!=0:\n",
        "    for i in range(1,n+1):\n",
        "      factorial=factorial*i\n",
        "    print(\"Factorial:\", factorial)"
      ],
      "metadata": {
        "id": "N8nPzndUpKl3"
      },
      "execution_count": null,
      "outputs": []
    }
  ]
}