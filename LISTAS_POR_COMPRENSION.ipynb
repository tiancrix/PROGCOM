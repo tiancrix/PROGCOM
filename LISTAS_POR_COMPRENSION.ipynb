{
  "nbformat": 4,
  "nbformat_minor": 0,
  "metadata": {
    "colab": {
      "provenance": []
    },
    "kernelspec": {
      "name": "python3",
      "display_name": "Python 3"
    },
    "language_info": {
      "name": "python"
    }
  },
  "cells": [
    {
      "cell_type": "code",
      "execution_count": null,
      "metadata": {
        "colab": {
          "base_uri": "https://localhost:8080/"
        },
        "id": "27HtARsf7YH1",
        "outputId": "2811d3fd-5733-4386-e1a5-385a54e81031"
      },
      "outputs": [
        {
          "output_type": "stream",
          "name": "stdout",
          "text": [
            "[64, 27, 125, 343, 125000]\n"
          ]
        }
      ],
      "source": [
        "nums = [4,3,5,7,50]\n",
        "num_cubes = []\n",
        "for num in nums:\n",
        "  num_cubes.append(num**3)\n",
        "\n",
        "print(num_cubes)"
      ]
    },
    {
      "cell_type": "markdown",
      "source": [
        "Colocar primero la expresion u operacion y luego la condicion"
      ],
      "metadata": {
        "id": "jHsasmJ2_T6t"
      }
    },
    {
      "cell_type": "code",
      "source": [
        "numeros=[n*2 for n in range(1,9)]\n",
        "print(numeros)"
      ],
      "metadata": {
        "colab": {
          "base_uri": "https://localhost:8080/"
        },
        "id": "gi1zeOIh_DsG",
        "outputId": "d14125fa-5d9a-4984-c2d2-5a6cd54ac96f"
      },
      "execution_count": null,
      "outputs": [
        {
          "output_type": "stream",
          "name": "stdout",
          "text": [
            "[2, 4, 6, 8, 10, 12, 14, 16]\n"
          ]
        }
      ]
    },
    {
      "cell_type": "markdown",
      "source": [
        "VENTAJAS:\n",
        "Más eficiente en tiempo y espacio que los bucles\n",
        "Requiere menos lineas de código\n",
        "Transforma una declaracion iterativa en una fórmula"
      ],
      "metadata": {
        "id": "GE29ffSc_eMB"
      }
    },
    {
      "cell_type": "code",
      "source": [
        "cadenas = [\"*\" * n for n in range(1,6)]\n",
        "print(cadenas)"
      ],
      "metadata": {
        "colab": {
          "base_uri": "https://localhost:8080/"
        },
        "id": "_YinKa3nAhEo",
        "outputId": "8c16c8d2-1361-4ba7-e2f2-b81b715ca031"
      },
      "execution_count": null,
      "outputs": [
        {
          "output_type": "stream",
          "name": "stdout",
          "text": [
            "['*', '**', '***', '****', '*****']\n"
          ]
        }
      ]
    },
    {
      "cell_type": "code",
      "source": [
        "x=input(\"ingrese la palabra que desee \")\n",
        "lista=[n for n in x]\n",
        "print(lista)"
      ],
      "metadata": {
        "colab": {
          "base_uri": "https://localhost:8080/"
        },
        "id": "0kmtj39bCgRK",
        "outputId": "88af53ec-0067-4e92-b231-bc950ee8bf2d"
      },
      "execution_count": null,
      "outputs": [
        {
          "output_type": "stream",
          "name": "stdout",
          "text": [
            "ingrese la palabra que desee hola\n",
            "['h', 'o', 'l', 'a']\n"
          ]
        }
      ]
    },
    {
      "cell_type": "code",
      "source": [
        "lista1=[1,2,3,4,5,6]\n",
        "lista2=[elementos**2 for elementos in lista1 if elementos%2==0]\n",
        "print(\"nueva lista\", lista2)"
      ],
      "metadata": {
        "colab": {
          "base_uri": "https://localhost:8080/"
        },
        "id": "PGwEY2SUDWLg",
        "outputId": "83f19090-15c3-4af3-8863-abecc83ca142"
      },
      "execution_count": null,
      "outputs": [
        {
          "output_type": "stream",
          "name": "stdout",
          "text": [
            "nueva lista [4, 16, 36]\n"
          ]
        }
      ]
    },
    {
      "cell_type": "code",
      "source": [],
      "metadata": {
        "id": "Sv8bwQ-nC0nR"
      },
      "execution_count": null,
      "outputs": []
    }
  ]
}