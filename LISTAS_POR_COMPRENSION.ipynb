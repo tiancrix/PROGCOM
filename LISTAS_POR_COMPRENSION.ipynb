{
  "nbformat": 4,
  "nbformat_minor": 0,
  "metadata": {
    "colab": {
      "provenance": []
    },
    "kernelspec": {
      "name": "python3",
      "display_name": "Python 3"
    },
    "language_info": {
      "name": "python"
    }
  },
  "cells": [
    {
      "cell_type": "code",
      "source": [
        "num=[]\n",
        "for i in range(6):\n",
        "  num.append(int(input(\"ingresa el n ganador\")))\n",
        "num.sort()\n",
        "print(\"los numeros son\"+str(num))"
      ],
      "metadata": {
        "colab": {
          "base_uri": "https://localhost:8080/"
        },
        "id": "aYc_ZvW2LvCV",
        "outputId": "18cb82ed-1790-49f4-b416-5d5cbd45bc63"
      },
      "execution_count": 13,
      "outputs": [
        {
          "output_type": "stream",
          "name": "stdout",
          "text": [
            "ingresa el n ganador50\n",
            "ingresa el n ganador4\n",
            "ingresa el n ganador5\n",
            "ingresa el n ganador6\n",
            "ingresa el n ganador1\n",
            "ingresa el n ganador20\n",
            "los numeros son[1, 4, 5, 6, 20, 50]\n"
          ]
        }
      ]
    },
    {
      "cell_type": "code",
      "source": [
        "números=[(n*2) for n  in range (1,9)]\n",
        "print(números)"
      ],
      "metadata": {
        "colab": {
          "base_uri": "https://localhost:8080/"
        },
        "id": "kNwW8YtUK_fH",
        "outputId": "a99e48d0-3da4-4518-898a-9ca6ce7a0aff"
      },
      "execution_count": 2,
      "outputs": [
        {
          "output_type": "stream",
          "name": "stdout",
          "text": [
            "[2, 4, 6, 8, 10, 12, 14, 16]\n"
          ]
        }
      ]
    },
    {
      "cell_type": "code",
      "source": [
        "número=[2,5,6,9,10]\n",
        "cuadrados=[(n**2)for n in número]\n",
        "print(cuadrados)"
      ],
      "metadata": {
        "colab": {
          "base_uri": "https://localhost:8080/"
        },
        "id": "h5YyHn0ZLBT2",
        "outputId": "14607ae0-613f-4536-c92c-7bd9ea162b71"
      },
      "execution_count": 3,
      "outputs": [
        {
          "output_type": "stream",
          "name": "stdout",
          "text": [
            "[4, 25, 36, 81, 100]\n"
          ]
        }
      ]
    },
    {
      "cell_type": "code",
      "source": [
        "cadena=\"python\"\n",
        "letras=[letra for letra in cadena]\n",
        "print(letras)\n",
        "x=input(\"Ingrese la palabra que desee: \")\n",
        "lista=[n for n in x]\n",
        "print(lista)"
      ],
      "metadata": {
        "colab": {
          "base_uri": "https://localhost:8080/"
        },
        "id": "9ugP3QHtLC3H",
        "outputId": "17b15d4e-1864-4632-bd7d-279bc0a679e6"
      },
      "execution_count": 4,
      "outputs": [
        {
          "output_type": "stream",
          "name": "stdout",
          "text": [
            "['p', 'y', 't', 'h', 'o', 'n']\n",
            "Ingrese la palabra que desee: hola papa\n",
            "['h', 'o', 'l', 'a', ' ', 'p', 'a', 'p', 'a']\n"
          ]
        }
      ]
    },
    {
      "cell_type": "code",
      "source": [
        "cadena=\"python\"\n",
        "letras=[letra for letra in cadena]\n",
        "print(letras)\n",
        "x=input(\"Ingrese la palabra que desee: \")\n",
        "lista=[n for n in x]\n",
        "print(lista)"
      ],
      "metadata": {
        "colab": {
          "base_uri": "https://localhost:8080/"
        },
        "id": "lJaMlehmLDDe",
        "outputId": "bc5e7c65-ca21-4d08-ec25-025910c4476d"
      },
      "execution_count": 5,
      "outputs": [
        {
          "output_type": "stream",
          "name": "stdout",
          "text": [
            "['p', 'y', 't', 'h', 'o', 'n']\n",
            "Ingrese la palabra que desee: hello \n",
            "['h', 'e', 'l', 'l', 'o', ' ']\n"
          ]
        }
      ]
    },
    {
      "cell_type": "code",
      "source": [
        "lista1=[2,7,10,9,8]\n",
        "lista2=[elementos**2 for elementos in lista1 if elementos%2==0 ]\n",
        "print(\"nueva lista\",lista2)"
      ],
      "metadata": {
        "colab": {
          "base_uri": "https://localhost:8080/"
        },
        "id": "qa33ZC15LIa2",
        "outputId": "955a04e5-c907-400e-8a87-a54acaf9f76a"
      },
      "execution_count": 6,
      "outputs": [
        {
          "output_type": "stream",
          "name": "stdout",
          "text": [
            "nueva lista [4, 100, 64]\n"
          ]
        }
      ]
    },
    {
      "cell_type": "code",
      "source": [
        "import random \n",
        "capitan=[random.randrange(1,30)for i in range(9)]\n",
        "print(\"Imprimir números aleatorios de la lista: \",str(capitan))"
      ],
      "metadata": {
        "colab": {
          "base_uri": "https://localhost:8080/"
        },
        "id": "tNOcW19pLKUV",
        "outputId": "26d76ccd-831c-4ae0-fe7c-6f3471d887c2"
      },
      "execution_count": 7,
      "outputs": [
        {
          "output_type": "stream",
          "name": "stdout",
          "text": [
            "Imprimir números aleatorios de la lista:  [8, 10, 2, 17, 20, 10, 19, 13, 18]\n"
          ]
        }
      ]
    },
    {
      "cell_type": "code",
      "source": [
        "precios=[]\n",
        "print('ingrese los números de los que quieres hacer un descuento')\n",
        "det=True\n",
        "while det:\n",
        "  num=int (input('sino desea agregar mas números digite 0'))\n",
        "  precios.append(num)\n",
        "  det= False if num==0 else num>0\n",
        "des=float(input(print('ingrese el descuento sin el %')))\n",
        "presdes=[precio*des/100 for precio in precios]\n",
        "presdes.pop(-1)\n",
        "print('este es el valor a restar',presdes)"
      ],
      "metadata": {
        "colab": {
          "base_uri": "https://localhost:8080/"
        },
        "id": "kZYWnYvYLh3m",
        "outputId": "0fec376b-976e-482a-b1ab-e09db202b589"
      },
      "execution_count": 12,
      "outputs": [
        {
          "output_type": "stream",
          "name": "stdout",
          "text": [
            "ingrese los números de los que quieres hacer un descuento\n",
            "sino desea agregar mas números digite 050\n",
            "sino desea agregar mas números digite 080\n",
            "sino desea agregar mas números digite 010\n",
            "sino desea agregar mas números digite 09\n",
            "sino desea agregar mas números digite 03\n",
            "sino desea agregar mas números digite 00\n",
            "ingrese el descuento sin el %\n",
            "None15\n",
            "este es el valor a restar [7.5, 12.0, 1.5, 1.35, 0.45]\n"
          ]
        }
      ]
    }
  ]
}