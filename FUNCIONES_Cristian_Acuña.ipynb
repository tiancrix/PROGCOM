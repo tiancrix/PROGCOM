{
  "nbformat": 4,
  "nbformat_minor": 0,
  "metadata": {
    "colab": {
      "provenance": []
    },
    "kernelspec": {
      "name": "python3",
      "display_name": "Python 3"
    },
    "language_info": {
      "name": "python"
    }
  },
  "cells": [
    {
      "cell_type": "markdown",
      "source": [
        "FUNCIONES"
      ],
      "metadata": {
        "id": "zI6yABG60tvA"
      }
    },
    {
      "cell_type": "code",
      "execution_count": null,
      "metadata": {
        "id": "TAQQAHTQ0rlt"
      },
      "outputs": [],
      "source": [
        "def (nombre cualquiera)(parametros o argumentos):\n",
        "  lo que va dentro de la funcion"
      ]
    },
    {
      "cell_type": "markdown",
      "source": [
        "Tipos de funciones:\n",
        "\n",
        "1. Sin parametros, sin retorno\n",
        "def manuel():\n",
        "\n",
        "2. Sin parametros, con retorno \n",
        "def nicolas():\n",
        " print(\"hola nicolas\")\n",
        " a=5\n",
        " return a \n",
        "\n",
        "3. Con parametros, sin retorno\n",
        "def holitas(a,\"b\", x=False):\n",
        "\n",
        " int a\n",
        " b=string\n",
        " x=boolean\n",
        " print(\"hola nicolas\")\n",
        "\n",
        " a=5"
      ],
      "metadata": {
        "id": "Yn_Bpz5o1Ibc"
      }
    },
    {
      "cell_type": "code",
      "source": [
        "def salude():\n",
        "   print(\"Saludar\")\n",
        "   print(\"Es de cracks\")\n"
      ],
      "metadata": {
        "id": "oULwy-L14ARP"
      },
      "execution_count": null,
      "outputs": []
    },
    {
      "cell_type": "code",
      "source": [
        "salude()"
      ],
      "metadata": {
        "colab": {
          "base_uri": "https://localhost:8080/"
        },
        "id": "q7QclFlC4uoz",
        "outputId": "7ec37bab-ace6-4ce4-b8bc-886e0d4330a3"
      },
      "execution_count": null,
      "outputs": [
        {
          "output_type": "stream",
          "name": "stdout",
          "text": [
            "Saludar\n",
            "Es de cracks\n"
          ]
        }
      ]
    },
    {
      "cell_type": "code",
      "source": [
        "a=int(input(\"ingrese un numero\"))\n",
        "b=int(input(\"ingrese un numero\"))\n",
        "c=int(input(\"ingrese un numero\"))\n",
        "\n",
        "if a!=b and a!=c and c!=b:\n",
        "  if a > b and a > c:\n",
        "    if b>c:\n",
        "      print(a, \"es el mayor\")\n",
        "      print(b, \"es el valor medio\")\n",
        "      print(c, \"es el menor\")\n",
        "    else:\n",
        "      print(a, \"es el mayor\")\n",
        "      print(c, \"es el valor medio\")\n",
        "      print(b, \"es el menor\")\n",
        "  elif b>a and b>c:\n",
        "   \n",
        "    if a>c:\n",
        "      print(b, \"es el mayor\")\n",
        "      print(a, \"es el valor medio\")\n",
        "      print(c, \"es el menor\")\n",
        "    else:\n",
        "      print(b, \"es el mayor\")\n",
        "      print(c, \"es el valor medio\")\n",
        "      print(a, \"es el menor\")\n",
        "   \n",
        "    if c>a and c>b:\n",
        "     if a>b: \n",
        "      print(c, \"es el mayor\")\n",
        "      print(a, \"es el valor medio\")\n",
        "      print(b, \"es el menor\") \n",
        "     else:\n",
        "      print(c, \"es el mayor\")\n",
        "      print(b, \"es el valor medio\")\n",
        "      print(a, \"es el menor\")\n",
        "    else:\n",
        "      print(\"no se puede hacer el calculo\")\n"
      ],
      "metadata": {
        "colab": {
          "base_uri": "https://localhost:8080/"
        },
        "id": "fchOPQ3L5AUA",
        "outputId": "3e989352-424a-42e1-848a-1bd490e5c4a5"
      },
      "execution_count": null,
      "outputs": [
        {
          "output_type": "stream",
          "name": "stdout",
          "text": [
            "ingrese un numero4\n",
            "ingrese un numero8\n",
            "ingrese un numero6\n",
            "8 es el mayor\n",
            "6 es el valor medio\n",
            "4 es el menor\n",
            "no se puede hacer el calculo\n"
          ]
        }
      ]
    },
    {
      "cell_type": "code",
      "source": [
        "#funcion sin parametros con retorno\n",
        "def imprimir(a, b ,c):\n",
        "  print(a, \"es el mayor\")\n",
        "  print(b, \"es el valor medio\")\n",
        "  print(c, \"es el menor\")\n"
      ],
      "metadata": {
        "id": "AivbHIbt7jps"
      },
      "execution_count": null,
      "outputs": []
    },
    {
      "cell_type": "code",
      "source": [
        "def comparar(a,b,c):\n",
        "  "
      ],
      "metadata": {
        "id": "8Na3pDU_AyXr"
      },
      "execution_count": null,
      "outputs": []
    }
  ]
}