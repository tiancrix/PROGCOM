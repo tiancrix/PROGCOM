{
  "nbformat": 4,
  "nbformat_minor": 0,
  "metadata": {
    "colab": {
      "name": "ACTIVIDAD DE CLASE 1.ipynb",
      "provenance": [],
      "collapsed_sections": []
    },
    "kernelspec": {
      "name": "python3",
      "display_name": "Python 3"
    },
    "language_info": {
      "name": "python"
    }
  },
  "cells": [
    {
      "cell_type": "markdown",
      "source": [
        "1. Escriba un programa que solicite dos números enteros y calcule su división. El\n",
        "programa debe definir si la división es exacta o no. Si no es exacta, debe imprimir cuál\n",
        "es su residuo. ¿Qué debería imprimir el programa si la división es entre cero?"
      ],
      "metadata": {
        "id": "XbfQrMbVqzth"
      }
    },
    {
      "cell_type": "code",
      "execution_count": null,
      "metadata": {
        "id": "AWJq8-H5d7KT",
        "colab": {
          "base_uri": "https://localhost:8080/"
        },
        "outputId": "befc21a2-a3d1-404d-ec2e-c8c9b89573bb"
      },
      "outputs": [
        {
          "output_type": "stream",
          "name": "stdout",
          "text": [
            "ingresa el primer numero 5\n",
            "ingresa el segundo numero 6\n",
            "0.8333333333333334\n"
          ]
        }
      ],
      "source": [
        "x=int(input(\"ingrese un numero dividendo\"))\n",
        "c=int(input(\"ingrese un numero divisor\" ))\n",
        "if c==0:\n",
        "  print(\"el resultado es indeterminado porque el divisor es 0 \")\n",
        "else:\n",
        "  v=(x/c)\n",
        "  print(\"El resultado de la division es \", v)\n",
        "  b=(x % c)\n",
        "  if b==0:\n",
        "    print(\"La division es exacta porque el modulo da \", b)\n",
        "  else:\n",
        "    print(\"La division no es exacta porque el modulo da \", b)"
      ]
    },
    {
      "cell_type": "markdown",
      "source": [
        "2. Escriba un programa que pida dos números e indique si uno es múltiplo del otro."
      ],
      "metadata": {
        "id": "3U2ba0dTt6VF"
      }
    },
    {
      "cell_type": "code",
      "source": [
        "num1 = int(input(\"Ingresa el primer número: \"))\n",
        "num2 = int(input(\"Ingresa el segundo número: \"))\n",
        "if num1 % num2 == 0:\n",
        "  print(\"El número\", num1, \"es múltiplo del número\", num2)\n",
        "elif num2 % num1 == 0:\n",
        "  print(\"El número\", num2, \"es múltiplo del número\", num1)\n",
        "else: \n",
        "  print(\"Los números no son múltiplos\")"
      ],
      "metadata": {
        "id": "bhnr4miouBIL"
      },
      "execution_count": null,
      "outputs": []
    },
    {
      "cell_type": "markdown",
      "source": [
        "3. Escriba un programa que ordene, de menor a mayor, las edades de tres hermanos.\n",
        "¿Qué pasaría si son gemelos? ¿Qué pasaría si son trillizos?"
      ],
      "metadata": {
        "id": "VrsQ3FCNuzQS"
      }
    },
    {
      "cell_type": "code",
      "source": [
        "e1=int(input(\"ingresa la primera edad\"))##edades\n",
        "e2=int(input(\"ingresa la segunda edad\"))\n",
        "e3=int(input(\"ingresa la tercera edad\"))\n",
        "\n",
        "edades=[e1,e2,e3] ##lista\n",
        "\n",
        "if e1==e2 and e1==e3:\n",
        "  print(\"son trillizos\")\n",
        "\n",
        "if e1==e2:\n",
        "  print(e1, \"y\" ,e2,\"son gemelos y su edad es\" ,e1)\n",
        "  if e1>e3:\n",
        "    print(\"el menor es\" ,e3)\n",
        "  else:\n",
        "    print(\"el mayor es\" ,e3)\n",
        "\n",
        "if e1==e3:\n",
        "  print(e1, \"y\" ,e3,\"son gemelos y su edad es\" ,e1)\n",
        "  if e1>e2:\n",
        "    print(\"el menor es\" ,e2)\n",
        "  else:\n",
        "    print(\"el mayor es\" ,e2)\n",
        "  \n",
        "if e2==e3:\n",
        "  print(e2, \"y\" ,e3,\"son gemelos y su edad es\" ,e2)\n",
        "  if e2>e1:\n",
        "    print(\"el menor es\" ,e1)\n",
        "  else:\n",
        "    print(\"el mayor es\" ,e1)\n",
        "\n",
        "print(\"la edad del menor es\" ,min(edades), \"edad\")\n",
        "print(\"la edad del medio es\" ,(e1+e2+e3)-min(edades)-max(edades), \"edad\")\n",
        "print(\"la edad del mayor es\" ,max(edades), \"edad\")\n"
      ],
      "metadata": {
        "id": "vATzsouZu0QR"
      },
      "execution_count": null,
      "outputs": []
    },
    {
      "cell_type": "markdown",
      "source": [
        "4. DIAN le ha contratado para identificar si una persona debe pagar impuesto de renta o\n",
        "no. ¿Qué datos debería suministrar? Escriba un programa con su solución."
      ],
      "metadata": {
        "id": "J3_A5rL5u0xD"
      }
    },
    {
      "cell_type": "code",
      "source": [
        "p=int(input(\"Ingrese el valor de su patrimonio bruto \"))\n",
        "i=int(input(\"Ingrese el calor de sus ingresos totales del año \"))\n",
        "t=int(input(\"Ingrese el valor de sus consumos en la tarjeta de crédito \"))\n",
        "c=int(input(\"Ingrese el valor total de compras y consumo del año \"))\n",
        "b=int(input(\"Ingrese el valor total acumulado de consignaciones bancarias, depósitos e inversiones financieras \"))\n",
        "if p==163386000 or p>163386000:\n",
        "  print(\"Usted debe declarar impuesto de renta\")\n",
        "elif i==50831000 or i>50831000:\n",
        "  print(\"Usted debe declarar impuesto de renta\")\n",
        "elif t==50831000 or t>50831000:\n",
        "  print(\"Usted debe declarar impuesto de renta\")\n",
        "elif c==50831000 or c>50831000:\n",
        "  print(\"Usted debe declarar impuesto de renta\")\n",
        "elif b==50831000 or b>50831000:\n",
        "  print(\"Usted debe declarar impuesto de renta\")\n",
        "else: print(\"Usted no debe declarar impuesto de renta \")"
      ],
      "metadata": {
        "id": "jR9my619u3Aj"
      },
      "execution_count": null,
      "outputs": []
    },
    {
      "cell_type": "markdown",
      "source": [
        "5. Escriba un programa que, de acuerdo al código del estudiante, defina a qué universidad\n",
        "pertenece.\n",
        "\n",
        "a. Si el código empieza con U y tiene 8 dígitos, pertenece a la UNAB\n",
        "\n",
        "b. Si los cuatro primeros dígitos es mayor a 1950 , pertenece a la UIS.\n",
        "\n",
        "c. Si el código empieza con A y tres ceros seguidos, pertenece a los ANDES.\n",
        "\n",
        "d. 1000 exp. adicional: Si el código de la UNAB termina en 26, debe imprimir que es\n",
        "ingeniero electrónico. Si termina en 32, ingeniero de sistemas. Si termina en 50,\n",
        "pertenece a ingeniería de administración de empresas.\n",
        "\n",
        "e. 1000 xp. Adicional: Defina códigos con los dos últimos caracteres para la UIS y\n",
        "ANDES, de las mismas carreras."
      ],
      "metadata": {
        "id": "cggEedx0u30a"
      }
    },
    {
      "cell_type": "code",
      "source": [
        "codigo=input(\"Ingresar codigo de estudiante\")\n",
        "cod=str(codigo.strip().lower())\n",
        "longitud=len(cod)\n",
        "uis=(cod[0:4])\n",
        "if cod.startswith(\"u\") and longitud==9:\n",
        "  print(\"Eres un estudiante de la unab\")\n",
        "elif cod.startswith(\"a000\") :\n",
        "  print(\"Eres un estudiante de los andes\")\n",
        "elif int(uis)>=1950:\n",
        "  print(\"Eres estudiante UIS\")\n",
        "  if cod.endswith(\"52\"):\n",
        "    print(\"derecho\")\n",
        "  else:\n",
        "    print(\"ingresa codigo valido\")\n",
        "else:\n",
        "  print(\"Ingresa un codigo valido\")"
      ],
      "metadata": {
        "id": "gdBQLqztu63C"
      },
      "execution_count": null,
      "outputs": []
    },
    {
      "cell_type": "markdown",
      "source": [
        "6. Escriba un programa que le pregunte sus cuatro notas y calcule su promedio actual. Si\n",
        "su promedio es mayor a 4.5, se le diga que está eximido del último examen. Si su nota\n",
        "se encuentra entre 3.5 y 4.5 (intervalo abierto) se le indique que debe presentar el\n",
        "examen. Si la nota se encuentra entre 3 y 3.5 (intervalo abierto), se le indique que\n",
        "adicional al examen, debe presentar un trabajo. Si la nota está entre intervalo abierto\n",
        "entre 2 y 3, decir que debe presentar habilitación. De lo contrario, se le debe indicar al\n",
        "estudiante que perdió la materia irremediablemente."
      ],
      "metadata": {
        "id": "D1hviRXlvkXI"
      }
    },
    {
      "cell_type": "code",
      "source": [
        "a=float(input(\"Ingrese primera nota \"))\n",
        "b=float(input(\"Ingrese segunda nota \"))\n",
        "c=float(input(\"Ingrese tercera nota \"))\n",
        "d=float(input(\"Ingrese cuarta nota \"))\n",
        "t=(a+b+c+d)/4\n",
        "print(t,\"Es el promedio\")\n",
        "if t>4.5:\n",
        "  print(\"Estás eximido\")\n",
        "if t >=3.5 and t<=4.5:\n",
        "  print(\"Debes presentar exámen final\")\n",
        "if t >=3.0 and t<=3.5:\n",
        "  print(\"Debes presentar exámen final y se te asignará un trabajo\")\n",
        "if t>=2.0 and t<=3.0:\n",
        "  print(\"Debes presentar exámen de nivelación\")\n",
        "if t<2.0:\n",
        "  print(\"Paila la materia\")"
      ],
      "metadata": {
        "id": "Kk7TCu3kvoxI"
      },
      "execution_count": null,
      "outputs": []
    },
    {
      "cell_type": "markdown",
      "source": [
        "7. Escriba un programa que pregunte tu fecha de nacimiento, e indique cuántos días faltan\n",
        "para tu cumpleaños y cuántos años tienes."
      ],
      "metadata": {
        "id": "jr6zNzryvpDo"
      }
    },
    {
      "cell_type": "code",
      "source": [
        "from datetime import date, time, datetime\n",
        "B=str(input(\"Para que el programa te diga cuantos años tienes \\n ingresa tu fecha de nacimiento de esta manera: día/mes/año \")) \n",
        "C=datetime.strptime(B,\"%d/%m/%Y\") \n",
        "D=datetime.now()\n",
        "L=D-C\n",
        "\n",
        "print(\"Tienes\",int(L.days/365), \"años\" )\n",
        "K=str(input(\"Ingrese la fecha de su próximo cumpleaños de esta manera: día/mes/año \\n para saber cuantos días faltan para su cumpleaños \"  ))\n",
        "P=datetime.strptime(K,\"%d/%m/%Y\")\n",
        "S=P-D\n",
        "print(\"Faltan\" ,S.days, \"días para tu cumpleaños!\")"
      ],
      "metadata": {
        "id": "0fh3SqYlvrH4"
      },
      "execution_count": null,
      "outputs": []
    },
    {
      "cell_type": "markdown",
      "source": [
        "8. Escriba un programa que defina si un número es bisiesto. (Un año es bisiesto cuando\n",
        "son múltiplos de 4, pero no son múltiplos de 100."
      ],
      "metadata": {
        "id": "WuEHUuUuvrpA"
      }
    },
    {
      "cell_type": "code",
      "source": [
        "B=int(input(\"¡¡¡Ingresa un año para saber si es bisiesto o no!!!. \"))\n",
        "y=B%4\n",
        "x=B%400\n",
        "m=B%100\n",
        "if y !=0: \n",
        " print(\"El año ingresado NO es bisiesto.\")\n",
        "elif y==0 and m!=0: \n",
        " print(\"El año ingresado es bisiesto.\")\n",
        "elif y==0 and m==0 and x!=0: \n",
        " print(\"El año ingresado NO es bisiesto.\")\n",
        "elif y==0 and m==0 and x==0: \n",
        " print(\"El año ingresado es bisiesto.\")\n",
        "else:\n",
        " print(\"El año ingresado NO es bisiesto.\")"
      ],
      "metadata": {
        "id": "tOflNB28vtqY"
      },
      "execution_count": null,
      "outputs": []
    },
    {
      "cell_type": "markdown",
      "source": [
        "9. Escriba un programa que solicite los coeficientes de la ecuación de la recta ax+b=0 y\n",
        "escriba la solución."
      ],
      "metadata": {
        "id": "G1lFJWeyvt9I"
      }
    },
    {
      "cell_type": "code",
      "source": [
        "print(\"Bienvenido a calculator!!!\")\n",
        "print(\"Vamos a hallar los coeficientes de una ecuación o(≧▽≦)o\")\n",
        "print(\"Recuerda que la fórmula de la pendiente de la recta es: ax+b=0 \")\n",
        "print(\"Para esto, es necesario que des los siguientes valores: \")\n",
        "\n",
        "a=float(input(\"Ingresa el coeficiente a: \"))\n",
        "b=float(input(\"Ingresa el coeficiente b: \"))\n",
        "\n",
        "if a==0: \n",
        " print(\"No es posible ejecutar la división.\")\n",
        "else:\n",
        " x=-b/a\n",
        " print(\"Los calculos han sido completados!!! \\n\",x, \"es el resultado\")"
      ],
      "metadata": {
        "id": "YDVjX6ajvvsP"
      },
      "execution_count": null,
      "outputs": []
    },
    {
      "cell_type": "markdown",
      "source": [
        "10. Escriba un programa que halle la pendiente de la recta ax+b=c."
      ],
      "metadata": {
        "id": "nzO0FxgFvv7o"
      }
    },
    {
      "cell_type": "code",
      "source": [
        "print(\"¡¡¡Bienvenido a calculator!!!\")\n",
        "print(\"Vamos a hallar la pendiente de la recta o(≧▽≦)o\")\n",
        "print(\"Recuerda que la fórmula de la pendiente de la recta es: ax+b=c\")\n",
        "print(\"Para esto, es necesario que des los siguientes valores: \")\n",
        "\n",
        "B=float(input(\"El valor de un punto en x \"))\n",
        "K=float(input(\"El valor del mismo punto en y: \"))\n",
        "S=float(input(\"El valor de la b (corte con el eje y): \"))\n",
        "\n",
        "E=(K-S)/B\n",
        "\n",
        "print(\"Los calculos han sido completados!!! \\n\",E, \"Es el valor de la peniente\")"
      ],
      "metadata": {
        "id": "5dnfR3ZXv3WA"
      },
      "execution_count": null,
      "outputs": []
    },
    {
      "cell_type": "markdown",
      "source": [
        "11. Escriba un programa que pida los coeficientes de una ecuación de segundo grado (a x²\n",
        "+ b x + c = 0) y escriba la solución.\n",
        "Se recuerda que una ecuación de segundo grado puede no tener solución, tener una\n",
        "solución única, tener dos soluciones o que todos los números sean solución. Se\n",
        "recuerda que la fórmula de las soluciones cuando hay dos soluciones es x = (-b ± √(b2-\n",
        "4ac) ) / (2a)"
      ],
      "metadata": {
        "id": "t8qb2bZ-v3hw"
      }
    },
    {
      "cell_type": "code",
      "source": [
        "from math import sqrt\n",
        "print(\"¡¡¡Bienvenido a calculator!!!.\")\n",
        "print(\"Vamos a hallar los coeficientes de una ecuación de segundo grado o(≧▽≦)o.\")\n",
        "print(\"Para esto, es necesario que des los coeficientes \\n de la ecuación de la recta ax²+bx+c=0: \")\n",
        "\n",
        "a=float(input(\"Ingresa el coeficiente a: \"))\n",
        "b=float(input(\"Ingresa el coeficiente b: \"))\n",
        "c=float(input(\"Ingresa el coeficiente c: \"))\n",
        "\n",
        "d=b*b-4*a*c\n",
        "\n",
        "if d<0: \n",
        " print(\"No hay solucion real.\")\n",
        "else:\n",
        " raiz=sqrt(d)      \n",
        " x1=(-b+raiz)/(2*a)     \n",
        " if d!= 0:         \n",
        "   x2 = (-b-raiz)/(2*a) \n",
        "   print(\"Los resultados son: {x1} y {x2}.\") \n",
        " else:\n",
        "   print(\"El resultado es x= {x1}.\")"
      ],
      "metadata": {
        "id": "ZfkJKVzUv5XX"
      },
      "execution_count": null,
      "outputs": []
    },
    {
      "cell_type": "markdown",
      "source": [
        "12. Escriba un programa que sirva para evaluar si un estudiante sabe sumar, restar,\n",
        "multiplicar o dividir. Para ello, debe\n",
        "\n",
        "a. Solicitarle al usuario qué operación desea probar\n",
        "\n",
        "b. La operación que aparecerá deberá tener dos números aleatorios.\n",
        "\n",
        "c. El programa definirá si el usuario acertó, o no.\n"
      ],
      "metadata": {
        "id": "NVVAhv4ov54v"
      }
    },
    {
      "cell_type": "code",
      "source": [
        "import os\n",
        "\n",
        "print(\"¡¡¡Bienvenido a mateaprendizaje!!! (ɔ◔‿◔)ɔ ♥ \")\n",
        "print(\"Qué quieres practicar hoy?\")\n",
        "print(\"Si quieres practicar suma pon 1, si quieres practicar resta pon 2,\\nSi quieres practicar multiplicación pon 3, si quieres división pon 4\")\n",
        "\n",
        "\n",
        "B=int(input(\"\"))\n",
        "import random \n",
        "random1= int(random.uniform(1,100))\n",
        "random2= int(random.uniform(7,200)) \n",
        "K=0\n",
        "resultado2=float\n",
        "\n",
        "if B == 1:\n",
        "  resultado2=random1+random2\n",
        "  print(\"Por favor opera \" ,random1, \"y \" ,random2) \n",
        "  resultado1=float(input(\"¿Cual es el resultado? >(OvO)< Vamos! Tu puedes \\n\"))\n",
        "\n",
        "elif B== 2:\n",
        "  resultado2=random1-random2\n",
        "  print(\"Por favor opera \" ,random1, \"y \" ,random2) \n",
        "  resultado1=float(input(\"¿Cual es el resultado? >(OvO)< Vamos! Tu puedes \\n\"))\n",
        "elif B== 3:\n",
        "  resultado2=random1*random2\n",
        "  print(\"Por favor opera \" ,random1, \"y \" ,random2) \n",
        "  resultado1=float(input(\"¿Cual es el resultado? >(OvO)< Vamos! Tu puedes \\n\"))\n",
        "elif B==4:\n",
        "  resultado2=random1/random2\n",
        "  print(\"Por favor opera \" ,random1, \"y \" ,random2) \n",
        "  resultado1=float(input(\"¿Cual es el resultado? >(OvO)< Vamos! Tu puedes \\n\"))\n",
        "elif B > 4 or B < 1 :\n",
        "  resultado1=float; print(\"Opción inválida D: \");os.system('exit')\n",
        "\n",
        "\n",
        "K=resultado1-resultado2\n",
        "if K == 0:\n",
        "  print(\"El resultado es correcto\")\n",
        "else:\n",
        "  print(\"Resultado incorrecto (╥﹏╥) \\n La respuesta es: \",resultado2)"
      ],
      "metadata": {
        "id": "18IxkdlkwBef"
      },
      "execution_count": null,
      "outputs": []
    },
    {
      "cell_type": "markdown",
      "source": [
        "13. Realizar programa que permita convertir:\n",
        "\n",
        "a. cm a metros\n",
        "\n",
        "b. cm a km\n",
        "\n",
        "c. metros a km\n",
        "\n",
        "\n",
        "d. km a cm\n",
        "\n",
        "e. km a m.\n"
      ],
      "metadata": {
        "id": "27rkfyKvwBwO"
      }
    },
    {
      "cell_type": "code",
      "source": [
        "B=int(input(\"Ingresa un número: \")) \n",
        "print(\"Si quieres convertir de cm a metros pon 1, si quieres convertir de cm a km pon 2 , si quieres convertir de mestros a km pon 3, si quieres convertir de km a cm pon 4, si quieres convertir de km a m pon 5\")\n",
        "K=int(input(\"\"))\n",
        "t=int\n",
        "if K==1: \n",
        " t=B/100\n",
        "elif K==2:  \n",
        " t=B/100000\n",
        "elif K==3:\n",
        " t=B/1000\n",
        "elif K==4:\n",
        " t=B*1000\n",
        "elif K==5:\n",
        " t=B*1000\n",
        "else:\n",
        "  print(\"Opción inválida\")\n",
        "print (t)"
      ],
      "metadata": {
        "id": "i8j7bcRiwHKv"
      },
      "execution_count": null,
      "outputs": []
    },
    {
      "cell_type": "markdown",
      "source": [
        "14. Realizar un programa que solicite al usuario que escriba una letra, y defina si es vocal o\n",
        "consonante. El programa no debe funcionar (o indicar que es un error) si se intenta\n",
        "ingresar más de una letra o un número."
      ],
      "metadata": {
        "id": "BhxFa2tYwHY-"
      }
    },
    {
      "cell_type": "code",
      "source": [
        "print(\"¡Ola! Ingresa una letra y sabras si es consonante o vocal \\( ≖.≖)/\")\n",
        "B=input()\n",
        "cantidad=len(B)\n",
        "tipo=type(B)\n",
        "\n",
        "if B.isdigit()==True: \n",
        " print(\"SYNTAX ERROR\")\n",
        "elif cantidad>=2:\n",
        " print(\"SYNTAX ERROR\")\n",
        "else:\n",
        "  if B==(\"a\" or \"e\" or \"i\" or \"o\" or \"u\"):\n",
        "    print (\"La letra ingresada es una vocal :D\")\n",
        "  else:\n",
        "    print (\"la letra ingresada es una consonante\")"
      ],
      "metadata": {
        "id": "RB1aWjoAwJr3"
      },
      "execution_count": null,
      "outputs": []
    },
    {
      "cell_type": "markdown",
      "source": [
        "15. Escribir un programa que, dado un número entero, muestre su valor absoluto."
      ],
      "metadata": {
        "id": "o2U9echSwJ7O"
      }
    },
    {
      "cell_type": "code",
      "source": [
        "K=int(input(\"Ingresa un numero entero!!!\"))\n",
        "\n",
        "print(\"El valor absoluto del número ingresado es: \")\n",
        "print(abs(K))"
      ],
      "metadata": {
        "id": "tKXf9DzLwMJX"
      },
      "execution_count": null,
      "outputs": []
    },
    {
      "cell_type": "markdown",
      "source": [
        "16. Realizar un programa que solicite al usuario que ingrese los nombres de dos usuarios\n",
        "los cuáles se almacenarán en user1 y user2. A continuación, imprimir “coincidencia” si\n",
        "los nombres de ambas personas comienzan con la misma letra o si terminan con la\n",
        "misma letra. Si no es así, imprimir “no hay coincidencia”."
      ],
      "metadata": {
        "id": "5PRShBd0wMWn"
      }
    },
    {
      "cell_type": "code",
      "source": [
        "B=[]\n",
        "user1=str(input(\"Ingrese su nombre\"))\n",
        "list(user1)\n",
        "K=[]\n",
        "user2=str(input(\"Ingrese su nombre\"))\n",
        "list(user2)\n",
        "\n",
        "if user1[0]==user2[0] or user1[-1]==user2[-1]:\n",
        " print(\"Coincidencia.\")\n",
        "else:\n",
        " print(\"No hay coincidencia.\")"
      ],
      "metadata": {
        "id": "1ecVd6_CwOKH"
      },
      "execution_count": null,
      "outputs": []
    },
    {
      "cell_type": "markdown",
      "source": [
        "17. Escribir un programa que le permita al usuario elegir un candidato por el cual votar:\n",
        "Candidato A por el partido Alfa, Candidato B, por el partido Beta, Candidato C por el\n",
        "partido gamma. Cuando el usuario introduce A, B o C, deberá imprimir por cuál\n",
        "candidato y partido ha votado. Si el usuario introduce otra letra, el programa debe\n",
        "indicarle que ha cometido un error."
      ],
      "metadata": {
        "id": "VMPY5NsqwOnH"
      }
    },
    {
      "cell_type": "code",
      "source": [
        "print(\"¡¡¡Bienvenido a la votaciones para presidente!!!(｡◕‿◕｡)♥.\")\n",
        "print(\"¡Recuerda que tu voto es secreto!\")\n",
        "\n",
        "print(\"Si desea votar por el candidato A del partido Alfa ponga A, \\n si desea votar por el candidato B del partido Beta ponga B, \\n si desea votar por el candidato C del partido Gamma ponga C.\")\n",
        "K=str(input(\"\"))\n",
        "\n",
        "if K.upper()==\"A\": \n",
        " print(\"¡Usted ha votado por el candidato A del partido Alfa! (๑•́ ₃ •̀๑).\")\n",
        "elif K.upper()==\"B\":\n",
        " print(\"¡Usted ha votado por el candidato B del partido Beta! (๑•́ ₃ •̀๑).\")\n",
        "elif K.upper()==\"C\":\n",
        " print(\"¡Usted ha votado por el candidato C del partido Gamma! (๑•́ ₃ •̀๑).\")\n",
        "else:\n",
        " print(\"SYNTAX ERROR O-o.\")"
      ],
      "metadata": {
        "id": "pAOlh2ATwQlO"
      },
      "execution_count": null,
      "outputs": []
    },
    {
      "cell_type": "markdown",
      "source": [
        "18. Escribir un programa que separe un número en sus unidades, decenas y centenas."
      ],
      "metadata": {
        "id": "wWZkb_1HwQ3H"
      }
    },
    {
      "cell_type": "code",
      "source": [
        "K=str(input(\"Ingresa un número entero para separar en sus unidades, decenas y centenas\"))\n",
        "\n",
        "\n",
        "print(\"Las unidades son: \",K[2])\n",
        "print(\"Las decenas son: \",K[1])\n",
        "print(\"Las centenas son: \",K[0])"
      ],
      "metadata": {
        "id": "qxPhSPQ1wTXf"
      },
      "execution_count": null,
      "outputs": []
    },
    {
      "cell_type": "markdown",
      "source": [
        "19. Escribir un programa que lea una palabra y defina si es un palíndromo. NOTA: Un\n",
        "palíndromo es una palabra que se lee igual adelante y hacia atrás."
      ],
      "metadata": {
        "id": "gxdMgVAEwT1v"
      }
    },
    {
      "cell_type": "code",
      "source": [
        "K=str(input(\"Descubre si una palabra es un palindromo \"))\n",
        "B=list(K.lower()) \n",
        "K=list(K.lower())\n",
        "B.reverse()\n",
        "\n",
        "if K==B:\n",
        "  print(\"La palabra ingresada es un palíndromo\")\n",
        "else:\n",
        "  print(\"La palabra ingresada NO es un palíndromo\")"
      ],
      "metadata": {
        "id": "ESKVFAajwVfX"
      },
      "execution_count": null,
      "outputs": []
    },
    {
      "cell_type": "markdown",
      "source": [
        "20. Escribir un programa que lea un número y defina si es o no un palíndromo."
      ],
      "metadata": {
        "id": "FrWDVXxgwVvv"
      }
    },
    {
      "cell_type": "code",
      "source": [
        "K=str(input(\"Descubre si el número es un palíndromo \"))\n",
        "B=list(K)\n",
        "K=list(K)\n",
        "B.reverse()\n",
        "\n",
        "if K==B:\n",
        "  print(\"El número ingresado es un palíndromo\")\n",
        "else:\n",
        "  print(\"El número ingresado NO es un palíndromo\")"
      ],
      "metadata": {
        "id": "x9tHtfkrwX94"
      },
      "execution_count": null,
      "outputs": []
    }
  ]
}