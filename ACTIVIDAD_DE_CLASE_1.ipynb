{
  "nbformat": 4,
  "nbformat_minor": 0,
  "metadata": {
    "colab": {
      "name": "ACTIVIDAD DE CLASE 1.ipynb",
      "provenance": [],
      "collapsed_sections": []
    },
    "kernelspec": {
      "name": "python3",
      "display_name": "Python 3"
    },
    "language_info": {
      "name": "python"
    }
  },
  "cells": [
    {
      "cell_type": "markdown",
      "source": [
        "1. Escriba un programa que solicite dos números enteros y calcule su división. El\n",
        "programa debe definir si la división es exacta o no. Si no es exacta, debe imprimir cuál\n",
        "es su residuo. ¿Qué debería imprimir el programa si la división es entre cero?"
      ],
      "metadata": {
        "id": "XbfQrMbVqzth"
      }
    },
    {
      "cell_type": "code",
      "execution_count": null,
      "metadata": {
        "id": "AWJq8-H5d7KT"
      },
      "outputs": [],
      "source": [
        "print('ingresa dos numeros, por favor')\n",
        "\n",
        "a = int(input())\n",
        "b = int(input())\n",
        " \n",
        "  if a % b == 0:\n",
        "        print(f'La división es exacta. Cociente: {a// b}')\n",
        "    else:\n",
        "        print(f'La división no es exacta. Cociente: {a // b}'\n",
        "              f'Resto: {a % b}')"
      ]
    },
    {
      "cell_type": "markdown",
      "source": [
        "2. Escriba un programa que pida dos números e indique si uno es múltiplo del otro."
      ],
      "metadata": {
        "id": "3U2ba0dTt6VF"
      }
    },
    {
      "cell_type": "code",
      "source": [
        "print('ingresa dos numeros, por favor')\n",
        "\n",
        "a = int(input())\n",
        "b = int(input())\n",
        " "
      ],
      "metadata": {
        "id": "bhnr4miouBIL"
      },
      "execution_count": null,
      "outputs": []
    },
    {
      "cell_type": "markdown",
      "source": [
        "3. Escriba un programa que ordene, de menor a mayor, las edades de tres hermanos.\n",
        "¿Qué pasaría si son gemelos? ¿Qué pasaría si son trillizos?"
      ],
      "metadata": {
        "id": "VrsQ3FCNuzQS"
      }
    },
    {
      "cell_type": "code",
      "source": [
        ""
      ],
      "metadata": {
        "id": "vATzsouZu0QR"
      },
      "execution_count": null,
      "outputs": []
    },
    {
      "cell_type": "markdown",
      "source": [
        "4. DIAN le ha contratado para identificar si una persona debe pagar impuesto de renta o\n",
        "no. ¿Qué datos debería suministrar? Escriba un programa con su solución."
      ],
      "metadata": {
        "id": "J3_A5rL5u0xD"
      }
    },
    {
      "cell_type": "code",
      "source": [
        ""
      ],
      "metadata": {
        "id": "jR9my619u3Aj"
      },
      "execution_count": null,
      "outputs": []
    },
    {
      "cell_type": "markdown",
      "source": [
        "5. Escriba un programa que, de acuerdo al código del estudiante, defina a qué universidad\n",
        "pertenece.\n",
        "\n",
        "a. Si el código empieza con U y tiene 8 dígitos, pertenece a la UNAB\n",
        "\n",
        "b. Si los cuatro primeros dígitos es mayor a 1950 , pertenece a la UIS.\n",
        "\n",
        "c. Si el código empieza con A y tres ceros seguidos, pertenece a los ANDES.\n",
        "\n",
        "d. 1000 exp. adicional: Si el código de la UNAB termina en 26, debe imprimir que es\n",
        "ingeniero electrónico. Si termina en 32, ingeniero de sistemas. Si termina en 50,\n",
        "pertenece a ingeniería de administración de empresas.\n",
        "\n",
        "e. 1000 xp. Adicional: Defina códigos con los dos últimos caracteres para la UIS y\n",
        "ANDES, de las mismas carreras."
      ],
      "metadata": {
        "id": "cggEedx0u30a"
      }
    },
    {
      "cell_type": "code",
      "source": [
        ""
      ],
      "metadata": {
        "id": "gdBQLqztu63C"
      },
      "execution_count": null,
      "outputs": []
    },
    {
      "cell_type": "markdown",
      "source": [
        "6. Escriba un programa que le pregunte sus cuatro notas y calcule su promedio actual. Si\n",
        "su promedio es mayor a 4.5, se le diga que está eximido del último examen. Si su nota\n",
        "se encuentra entre 3.5 y 4.5 (intervalo abierto) se le indique que debe presentar el\n",
        "examen. Si la nota se encuentra entre 3 y 3.5 (intervalo abierto), se le indique que\n",
        "adicional al examen, debe presentar un trabajo. Si la nota está entre intervalo abierto\n",
        "entre 2 y 3, decir que debe presentar habilitación. De lo contrario, se le debe indicar al\n",
        "estudiante que perdió la materia irremediablemente."
      ],
      "metadata": {
        "id": "D1hviRXlvkXI"
      }
    },
    {
      "cell_type": "code",
      "source": [
        ""
      ],
      "metadata": {
        "id": "Kk7TCu3kvoxI"
      },
      "execution_count": null,
      "outputs": []
    },
    {
      "cell_type": "markdown",
      "source": [
        "7. Escriba un programa que pregunte tu fecha de nacimiento, e indique cuántos días faltan\n",
        "para tu cumpleaños y cuántos años tienes."
      ],
      "metadata": {
        "id": "jr6zNzryvpDo"
      }
    },
    {
      "cell_type": "code",
      "source": [
        ""
      ],
      "metadata": {
        "id": "0fh3SqYlvrH4"
      },
      "execution_count": null,
      "outputs": []
    },
    {
      "cell_type": "markdown",
      "source": [
        "8. Escriba un programa que defina si un número es bisiesto. (Un año es bisiesto cuando\n",
        "son múltiplos de 4, pero no son múltiplos de 100."
      ],
      "metadata": {
        "id": "WuEHUuUuvrpA"
      }
    },
    {
      "cell_type": "code",
      "source": [
        ""
      ],
      "metadata": {
        "id": "tOflNB28vtqY"
      },
      "execution_count": null,
      "outputs": []
    },
    {
      "cell_type": "markdown",
      "source": [
        "9. Escriba un programa que solicite los coeficientes de la ecuación de la recta ax+b=0 y\n",
        "escriba la solución."
      ],
      "metadata": {
        "id": "G1lFJWeyvt9I"
      }
    },
    {
      "cell_type": "code",
      "source": [
        ""
      ],
      "metadata": {
        "id": "YDVjX6ajvvsP"
      },
      "execution_count": null,
      "outputs": []
    },
    {
      "cell_type": "markdown",
      "source": [
        "10. Escriba un programa que halle la pendiente de la recta ax+b=c."
      ],
      "metadata": {
        "id": "nzO0FxgFvv7o"
      }
    },
    {
      "cell_type": "code",
      "source": [
        ""
      ],
      "metadata": {
        "id": "5dnfR3ZXv3WA"
      },
      "execution_count": null,
      "outputs": []
    },
    {
      "cell_type": "markdown",
      "source": [
        "11. Escriba un programa que pida los coeficientes de una ecuación de segundo grado (a x²\n",
        "+ b x + c = 0) y escriba la solución.\n",
        "Se recuerda que una ecuación de segundo grado puede no tener solución, tener una\n",
        "solución única, tener dos soluciones o que todos los números sean solución. Se\n",
        "recuerda que la fórmula de las soluciones cuando hay dos soluciones es x = (-b ± √(b2-\n",
        "4ac) ) / (2a)"
      ],
      "metadata": {
        "id": "t8qb2bZ-v3hw"
      }
    },
    {
      "cell_type": "code",
      "source": [
        ""
      ],
      "metadata": {
        "id": "ZfkJKVzUv5XX"
      },
      "execution_count": null,
      "outputs": []
    },
    {
      "cell_type": "markdown",
      "source": [
        "12. Escriba un programa que sirva para evaluar si un estudiante sabe sumar, restar,\n",
        "multiplicar o dividir. Para ello, debe\n",
        "\n",
        "a. Solicitarle al usuario qué operación desea probar\n",
        "\n",
        "b. La operación que aparecerá deberá tener dos números aleatorios.\n",
        "\n",
        "c. El programa definirá si el usuario acertó, o no.\n"
      ],
      "metadata": {
        "id": "NVVAhv4ov54v"
      }
    },
    {
      "cell_type": "code",
      "source": [
        ""
      ],
      "metadata": {
        "id": "18IxkdlkwBef"
      },
      "execution_count": null,
      "outputs": []
    },
    {
      "cell_type": "markdown",
      "source": [
        "13. Realizar programa que permita convertir:\n",
        "\n",
        "a. cm a metros\n",
        "\n",
        "b. cm a km\n",
        "\n",
        "c. metros a km\n",
        "\n",
        "\n",
        "d. km a cm\n",
        "\n",
        "e. km a m.\n"
      ],
      "metadata": {
        "id": "27rkfyKvwBwO"
      }
    },
    {
      "cell_type": "code",
      "source": [
        ""
      ],
      "metadata": {
        "id": "i8j7bcRiwHKv"
      },
      "execution_count": null,
      "outputs": []
    },
    {
      "cell_type": "markdown",
      "source": [
        "14. Realizar un programa que solicite al usuario que escriba una letra, y defina si es vocal o\n",
        "consonante. El programa no debe funcionar (o indicar que es un error) si se intenta\n",
        "ingresar más de una letra o un número."
      ],
      "metadata": {
        "id": "BhxFa2tYwHY-"
      }
    },
    {
      "cell_type": "code",
      "source": [
        ""
      ],
      "metadata": {
        "id": "RB1aWjoAwJr3"
      },
      "execution_count": null,
      "outputs": []
    },
    {
      "cell_type": "markdown",
      "source": [
        "15. Escribir un programa que, dado un número entero, muestre su valor absoluto."
      ],
      "metadata": {
        "id": "o2U9echSwJ7O"
      }
    },
    {
      "cell_type": "code",
      "source": [
        ""
      ],
      "metadata": {
        "id": "tKXf9DzLwMJX"
      },
      "execution_count": null,
      "outputs": []
    },
    {
      "cell_type": "markdown",
      "source": [
        "16. Realizar un programa que solicite al usuario que ingrese los nombres de dos usuarios\n",
        "los cuáles se almacenarán en user1 y user2. A continuación, imprimir “coincidencia” si\n",
        "los nombres de ambas personas comienzan con la misma letra o si terminan con la\n",
        "misma letra. Si no es así, imprimir “no hay coincidencia”."
      ],
      "metadata": {
        "id": "5PRShBd0wMWn"
      }
    },
    {
      "cell_type": "code",
      "source": [
        ""
      ],
      "metadata": {
        "id": "1ecVd6_CwOKH"
      },
      "execution_count": null,
      "outputs": []
    },
    {
      "cell_type": "markdown",
      "source": [
        "17. Escribir un programa que le permita al usuario elegir un candidato por el cual votar:\n",
        "Candidato A por el partido Alfa, Candidato B, por el partido Beta, Candidato C por el\n",
        "partido gamma. Cuando el usuario introduce A, B o C, deberá imprimir por cuál\n",
        "candidato y partido ha votado. Si el usuario introduce otra letra, el programa debe\n",
        "indicarle que ha cometido un error."
      ],
      "metadata": {
        "id": "VMPY5NsqwOnH"
      }
    },
    {
      "cell_type": "code",
      "source": [
        ""
      ],
      "metadata": {
        "id": "pAOlh2ATwQlO"
      },
      "execution_count": null,
      "outputs": []
    },
    {
      "cell_type": "markdown",
      "source": [
        "18. Escribir un programa que separe un número en sus unidades, decenas y centenas."
      ],
      "metadata": {
        "id": "wWZkb_1HwQ3H"
      }
    },
    {
      "cell_type": "code",
      "source": [
        ""
      ],
      "metadata": {
        "id": "qxPhSPQ1wTXf"
      },
      "execution_count": null,
      "outputs": []
    },
    {
      "cell_type": "markdown",
      "source": [
        "19. Escribir un programa que lea una palabra y defina si es un palíndromo. NOTA: Un\n",
        "palíndromo es una palabra que se lee igual adelante y hacia atrás."
      ],
      "metadata": {
        "id": "gxdMgVAEwT1v"
      }
    },
    {
      "cell_type": "code",
      "source": [
        ""
      ],
      "metadata": {
        "id": "ESKVFAajwVfX"
      },
      "execution_count": null,
      "outputs": []
    },
    {
      "cell_type": "markdown",
      "source": [
        "20. Escribir un programa que lea un número y defina si es o no un palíndromo."
      ],
      "metadata": {
        "id": "FrWDVXxgwVvv"
      }
    },
    {
      "cell_type": "code",
      "source": [
        ""
      ],
      "metadata": {
        "id": "x9tHtfkrwX94"
      },
      "execution_count": null,
      "outputs": []
    }
  ]
}