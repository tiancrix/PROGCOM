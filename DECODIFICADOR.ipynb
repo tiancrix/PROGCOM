{
  "nbformat": 4,
  "nbformat_minor": 0,
  "metadata": {
    "colab": {
      "provenance": []
    },
    "kernelspec": {
      "name": "python3",
      "display_name": "Python 3"
    },
    "language_info": {
      "name": "python"
    }
  },
  "cells": [
    {
      "cell_type": "code",
      "execution_count": 1,
      "metadata": {
        "colab": {
          "base_uri": "https://localhost:8080/"
        },
        "id": "3AEhSfLsNMts",
        "outputId": "3674cf56-3a25-4f5b-b68c-15e3f6996aec"
      },
      "outputs": [
        {
          "output_type": "stream",
          "name": "stdout",
          "text": [
            "Ingresa una palabra biri\n",
            "casa\n"
          ]
        }
      ],
      "source": [
        "def idk(pal):\n",
        "  ikn=\"\"\n",
        "  for letra in pal:\n",
        "    #voc -2 a e i o u\n",
        "    if letra in \"a\": \n",
        "      ikn=ikn+\"o\"\n",
        "\n",
        "    elif letra in \"e\": \n",
        "      ikn=ikn+\"u\"\n",
        "\n",
        "    elif letra in \"i\": \n",
        "      ikn=ikn+\"a\"\n",
        "\n",
        "    elif letra in \"o\": \n",
        "      ikn=ikn+\"e\"\n",
        "\n",
        "    elif letra in \"u\": \n",
        "      ikn=ikn+\"i\"\n",
        "    #cons +1 b c d f g h j k l m n ñ o p q r s t u v w x y z\n",
        "    elif letra in \"b\": \n",
        "      ikn=ikn+\"c\"\n",
        "\n",
        "    elif letra in \"c\": \n",
        "      ikn=ikn+\"d\"\n",
        "\n",
        "    elif letra in \"d\": \n",
        "      ikn=ikn+\"f\"\n",
        "    \n",
        "    elif letra in \"f\": \n",
        "      ikn=ikn+\"g\"\n",
        "\n",
        "    elif letra in \"g\": \n",
        "      ikn=ikn+\"h\"\n",
        "    \n",
        "    elif letra in \"h\": \n",
        "      ikn=ikn+\"j\"\n",
        "    \n",
        "    elif letra in \"j\": \n",
        "      ikn=ikn+\"k\"\n",
        "    \n",
        "    elif letra in \"k\": \n",
        "      ikn=ikn+\"l\"\n",
        "    \n",
        "    elif letra in \"l\": \n",
        "      ikn=ikn+\"m\"\n",
        "\n",
        "    elif letra in \"m\": \n",
        "      ikn=ikn+\"n\"\n",
        "    \n",
        "    elif letra in \"n\": \n",
        "      ikn=ikn+\"ñ\"\n",
        "\n",
        "    elif letra in \"ñ\": \n",
        "      ikn=ikn+\"p\"\n",
        "    elif letra in \"p\": \n",
        "      ikn=ikn+\"q\"    \n",
        "    \n",
        "    elif letra in \"q\": \n",
        "      ikn=ikn+\"r\" \n",
        "\n",
        "    elif letra in \"r\": \n",
        "      ikn=ikn+\"s\"   \n",
        "\n",
        "    elif letra in \"s\": \n",
        "      ikn=ikn+\"t\"  \n",
        "\n",
        "    elif letra in \"t\": \n",
        "      ikn=ikn+\"v\" \n",
        "\n",
        "    elif letra in \"v\": \n",
        "      ikn=ikn+\"w\" \n",
        "\n",
        "    elif letra in \"w\": \n",
        "      ikn=ikn+\"x\" \n",
        "\n",
        "    elif letra in \"x\": \n",
        "      ikn=ikn+\"y\" \n",
        "\n",
        "    elif letra in \"y\": \n",
        "      ikn=ikn+\"z\" \n",
        "\n",
        "    elif letra in \"z\": \n",
        "      ikn=ikn+\"b\" \n",
        "\n",
        "  return ikn\n",
        "\n",
        "print(idk(input(\"Ingresa una palabra \")))"
      ]
    }
  ]
}