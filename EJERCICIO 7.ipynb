{
  "nbformat": 4,
  "nbformat_minor": 0,
  "metadata": {
    "colab": {
      "name": "CLASE 3",
      "provenance": []
    },
    "kernelspec": {
      "name": "python3",
      "display_name": "Python 3"
    },
    "language_info": {
      "name": "python"
    }
  },
  "cells": [
    {
      "cell_type": "code",
      "execution_count": 5,
      "metadata": {
        "colab": {
          "base_uri": "https://localhost:8080/"
        },
        "id": "H-dc3DJkbnpX",
        "outputId": "997d2298-bd66-4efd-b3f4-cff8297ba9c5"
      },
      "outputs": [
        {
          "output_type": "stream",
          "name": "stdout",
          "text": [
            "550\n"
          ]
        }
      ],
      "source": [
        "#EJERCICIO 7\n",
        "a = 100+90+80+70+60+50+40+30+20+10+0\n",
        "print(a)"
      ]
    }
  ]
}