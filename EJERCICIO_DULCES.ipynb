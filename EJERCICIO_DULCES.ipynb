{
  "nbformat": 4,
  "nbformat_minor": 0,
  "metadata": {
    "colab": {
      "provenance": []
    },
    "kernelspec": {
      "name": "python3",
      "display_name": "Python 3"
    },
    "language_info": {
      "name": "python"
    }
  },
  "cells": [
    {
      "cell_type": "code",
      "execution_count": 23,
      "metadata": {
        "colab": {
          "base_uri": "https://localhost:8080/"
        },
        "id": "m2CCZCyt9WTY",
        "outputId": "89d5d8ca-42c5-4921-d09d-3683784844c9"
      },
      "outputs": [
        {
          "output_type": "stream",
          "name": "stdout",
          "text": [
            ".........truco\n",
            "Cuantos años tienes?8\n",
            "Cuàl es tu altura en cm?145\n",
            "['🧁', '🧁', '🍭', '🍭', '🧁', '🧁', '🍭']\n"
          ]
        }
      ],
      "source": [
        "import random\n",
        "dulces=[]\n",
        "tipos_de_dulces=[\"\\U0001F9C1\", \"\\U0001F36B\", \"\\U0001F36C\", \"\\U0001F36D\"]\n",
        "x=input(\".........\").lower()\n",
        "if x ==\"truco\":\n",
        "  preguntas()"
      ]
    },
    {
      "cell_type": "code",
      "source": [
        "def preguntas():\n",
        "  y=int(input(\"Cuantos años tienes? \"))\n",
        "  if y>=3 and y<=10:\n",
        "    w=int((y/3))\n",
        "    for i in range(0,w):\n",
        "      dulces.append(random.choice(tipos_de_dulces))\n",
        "  else:\n",
        "    print('eres muy joven')\n",
        "  z=int(input(\"Cuàl es tu altura en cm? \"))\n",
        "  if z>=50 and z<=150:\n",
        "    p=int(((z/50)*2))\n",
        "    for i in range(0,p):\n",
        "      dulces.append(random.choice(tipos_de_dulces))\n",
        "  print(dulces)"
      ],
      "metadata": {
        "id": "aErbepSd-N2D"
      },
      "execution_count": 20,
      "outputs": []
    },
    {
      "cell_type": "code",
      "source": [
        "print(\"\\U0001F4A8\")"
      ],
      "metadata": {
        "colab": {
          "base_uri": "https://localhost:8080/"
        },
        "id": "-3fpn9WZ-qUy",
        "outputId": "95bd72d7-0697-42c5-e41f-e3f85d3b2bec"
      },
      "execution_count": 14,
      "outputs": [
        {
          "output_type": "stream",
          "name": "stdout",
          "text": [
            "💨\n"
          ]
        }
      ]
    }
  ]
}