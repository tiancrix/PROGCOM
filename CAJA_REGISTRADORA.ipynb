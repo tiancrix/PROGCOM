{
  "nbformat": 4,
  "nbformat_minor": 0,
  "metadata": {
    "colab": {
      "provenance": []
    },
    "kernelspec": {
      "name": "python3",
      "display_name": "Python 3"
    },
    "language_info": {
      "name": "python"
    }
  },
  "cells": [
    {
      "cell_type": "code",
      "execution_count": null,
      "metadata": {
        "id": "mniFrMroAsV9"
      },
      "outputs": [],
      "source": [
        "rom multiprocessing import Value\n",
        "from optparse import Values\n",
        "import tkinter\n",
        "from tkinter import END, Button, Entry, IntVar, Tk, ttk\n",
        "\n",
        "class Interfaz:\n",
        "\n",
        "    def __init__(self,ventana):\n",
        "        self.ventana = ventana\n",
        "        self.productos = (\"Arroz-$3700\", \"Spaghetti-$4000\", \"Aceite-$7000\", \"Manzana-$1500\", \"Café-$3000\", \"Harina-$4200\", \"Gaseosa-$3800\", \"Pan-$1000\", \"Jugo-$2800\", \"Mantequilla-$1500\", \"Chocolate-$3600\")\n",
        "        self.cajaCantidad = IntVar()\n",
        "        self.cajaTotal= IntVar()\n",
        "        self.total=0\n",
        "        self.dibujarComponentes()\n",
        "\n",
        "    def dibujarComponentes (self):\n",
        "        self.ventana.title(\"Caja Registradora\")\n",
        "        self.ventana.geometry(\"650x450\")\n",
        "        ttk.Label(self.ventana, text=\"Sellecciona el producto que deseas comprar: \").place(x=10, y=10)\n",
        "        ttk.Label(self.ventana, text=\"Selecciona la cantidad del producto escogido: \").place(x=10, y=60)\n",
        "        ttk.Label(self.ventana, text=\"El total es: \").place(x=450, y=400)\n",
        "        self.combo = ttk.Combobox(self.ventana, state=\"readonly\")\n",
        "        self.combo.place(x=10, y=35)\n",
        "        self.combo[\"values\"]=self.productos\n",
        "        self.combo.current(0)\n",
        "        Entry(self.ventana, textvariable=self.cajaCantidad).place(x=10, y=85)\n",
        "        Entry(self.ventana, textvariable=self.cajaTotal).place(x=520, y=400)\n",
        "        Button(self.ventana, text=\"Agregar\", command=self.agregarProducto).place(x=10, y=110)\n",
        "\n",
        "        self.tabla= ttk.Treeview(self.ventana,columns=(\"Cantidad\", \"Subtotal\"))\n",
        "        self.tabla.heading(\"#0\", text=\"Producto\")\n",
        "        self.tabla.heading(\"Cantidad\", text=\"Cantidad\")\n",
        "        self.tabla.heading(\"Subtotal\", text=\"Subtotal\")\n",
        "        self.tabla.place(x=10, y=150)\n",
        "    \n",
        "    def agregarProducto(self):\n",
        "        texto=self.combo.get()\n",
        "        datos=texto.split(\"-$\")\n",
        "        producto=datos[0]\n",
        "        precio=datos[1]\n",
        "        cantidad=self.cajaCantidad.get()\n",
        "        subtotal=int(precio)*int(cantidad)\n",
        "        self.tabla.insert(\"\", END, text=producto, values=(cantidad,\"$\"+str(subtotal)))\n",
        "        self.total=self.total+subtotal\n",
        "        self.cajaTotal.set(\"$\"+str(self.total))\n",
        "\n",
        "obj=Interfaz(Tk())\n",
        "obj.ventana.mainloop()"
      ]
    }
  ]
}