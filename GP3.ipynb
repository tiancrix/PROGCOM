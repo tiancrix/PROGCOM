{
  "nbformat": 4,
  "nbformat_minor": 0,
  "metadata": {
    "colab": {
      "provenance": []
    },
    "kernelspec": {
      "name": "python3",
      "display_name": "Python 3"
    },
    "language_info": {
      "name": "python"
    }
  },
  "cells": [
    {
      "cell_type": "code",
      "execution_count": null,
      "metadata": {
        "id": "Z7ixU1TBOlG5"
      },
      "outputs": [],
      "source": [
        "from tkinter import * \n",
        "from tkinter import ttk \n",
        " \n",
        "class g: \n",
        " \n",
        " def __init__(self,v): #Constructor \"init\" que recibe \"(self,v)\" \n",
        "  self.v = v \n",
        "  self.v.configure(bg='pink') \n",
        "  self.vainas = (\"Leche-$2890\",\"Docena de huevos-$7150\",\"Pan-$2000\",\"Chocolate-$7650\",\"Café-$11000\",\"Arepas-$1000\",\"Queso-$6750\",\"Harina-$2600\",\"Azúcar-$2700\",\"Sal-$900\",\"Aceite-$14690\",\"Mantequilla-$10050\", \"Cebolla-$2050\",) \n",
        "  self.cC = IntVar() #\"vainas\" es la clase que contiene a los productos que podemos comprar en nuestro supermercado.  \n",
        "  self.T = IntVar()  ## Los objetos son la leche, los huevos, el pan, etc. \n",
        "  self.total = 0     ### El atributo es el precio.  \n",
        "  self.dibujarComponentes() #### El método \"__init__\" inicia el atributo anteriormentente presentado. \n",
        " \n",
        " def dibujarComponentes(self): \n",
        "  self.v.title(\"SuperMarket\") \n",
        "  self.v.geometry(\"600x450\") \n",
        "  Label(self.v,text=\"¿Qué quieres comprar?\").place(x=10,y=10) \n",
        "  Label(self.v,text=\"¿Cuánto quieres comprar?\").place(x=10,y=60) \n",
        "  Label(self.v,text=\"El total es: \").place(x=450,y=400) \n",
        "  self.combo = ttk.Combobox(self.v,state=\"readonly\") \n",
        "  self.combo.place(x=10,y=35) \n",
        "  self.combo[\"values\"]=self.vainas \n",
        "  self.combo.current(0) \n",
        "  Entry(self.v,textvariable=self.cC).place(x=10,y=85) \n",
        "  Entry(self.v,textvariable=self.T).place(x=520,y=400) \n",
        "  Button(self.v,text=\"Agregar\",command=self.agregarProducto).place(x=10,y=110) \n",
        " \n",
        "  self.tabla = ttk.Treeview(self.v,columns=(\"Cantidad\",\"Subtotal\")) \n",
        "  self.tabla.heading(\"#0\",text=\"Producto\") \n",
        "  self.tabla.heading(\"Cantidad\",text=\"Cantidad\") \n",
        "  self.tabla.heading(\"Subtotal\",text=\"Subtotal\") \n",
        "  self.tabla.place(x=10,y=150) \n",
        " \n",
        " def agregarProducto(self): \n",
        "  texto = self.combo.get() \n",
        "   \n",
        "  datos = texto.split(\"-$\") \n",
        "  producto = datos[0] \n",
        "  precio = datos[1] \n",
        "  cantidad = self.cC.get() \n",
        "  subtotal = int(precio)*int(cantidad) \n",
        "  self.tabla.insert(\"\",END,text=producto,values=(cantidad,\"$\"+str(subtotal))) \n",
        "  self.total = self.total + subtotal \n",
        "  self.T.set(\"$\"+str(self.total)) \n",
        "obj = g(Tk()) \n",
        "obj.v.mainloop()"
      ]
    }
  ]
}