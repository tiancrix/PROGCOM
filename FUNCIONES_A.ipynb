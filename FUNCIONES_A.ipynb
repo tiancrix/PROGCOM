{
  "nbformat": 4,
  "nbformat_minor": 0,
  "metadata": {
    "colab": {
      "provenance": []
    },
    "kernelspec": {
      "name": "python3",
      "display_name": "Python 3"
    },
    "language_info": {
      "name": "python"
    }
  },
  "cells": [
    {
      "cell_type": "markdown",
      "source": [
        "#Funciones\n",
        "dev (nombre cualquiera)(parámetros o argumentos): lo que va dentro de la función\n",
        "\n",
        "Tipos de funciones\n",
        "\n",
        "1. Sin parámetros, sin retorno\n",
        "* dev manuel():\n",
        "* print (\"tome sus cinco\")\n",
        "\n",
        "2. Sin parámetros, con retorno\n",
        "\n",
        "* def Nicolás():\n",
        "* print (\"hola Nicolás\")\n",
        "* a=5\n",
        "return a\n",
        "\n",
        "3. Con parámetros, sin retorno\n",
        "* def holitas(a, \"b\", x=false):\n",
        "* int a\n",
        "* b=string\n",
        "* x=boolean\n",
        "* print (\"hola Nicolás\")\n",
        "* a=5\n",
        "\n",
        "4. Con parámetros, con retorno\n",
        "* def holitas(a, \"b\", x=false):\n",
        "* int a\n",
        "* b=string\n",
        "* x=boolean\n",
        "* print (\"hola Nicolás\")\n",
        "* a=5\n",
        "* return a"
      ],
      "metadata": {
        "id": "fUzhB8u0KLpd"
      }
    },
    {
      "cell_type": "code",
      "source": [
        "def saluden():\n",
        "  print(\"Saludar\")\n",
        "  print(\"Es de cracks\")"
      ],
      "metadata": {
        "id": "JVOxjld-LByi"
      },
      "execution_count": 2,
      "outputs": []
    },
    {
      "cell_type": "code",
      "source": [
        "saluden()"
      ],
      "metadata": {
        "colab": {
          "base_uri": "https://localhost:8080/"
        },
        "id": "KPSPIReELC4h",
        "outputId": "85544e5d-ddbd-4d05-c9d2-9d7fe21f8a45"
      },
      "execution_count": 3,
      "outputs": [
        {
          "output_type": "stream",
          "name": "stdout",
          "text": [
            "Saludar\n",
            "Es de cracks\n"
          ]
        }
      ]
    },
    {
      "cell_type": "code",
      "execution_count": 4,
      "metadata": {
        "colab": {
          "base_uri": "https://localhost:8080/"
        },
        "id": "BH1fsO2QIy0l",
        "outputId": "586d1dad-ccab-4124-e643-af01952e46ed"
      },
      "outputs": [
        {
          "output_type": "stream",
          "name": "stdout",
          "text": [
            "Ingrese un número: 4\n",
            "Ingrese un número: 5\n",
            "Ingrese un número: 8\n",
            "8 es el valor mayor\n",
            "5 es el valor medio\n",
            "4 es el valor menor\n"
          ]
        }
      ],
      "source": [
        "a=int(input(\"Ingrese un número: \"))\n",
        "b=int(input(\"Ingrese un número: \"))\n",
        "c=int(input(\"Ingrese un número: \"))\n",
        "if a != b and a != c and b != c:\n",
        "  if a > b and a > c:\n",
        "    if b > c:\n",
        "      print(a, \"es el valor mayor\")\n",
        "      print(b, \"es el valor medio\")\n",
        "      print(c, \"es el valor menor\")\n",
        "    else: \n",
        "      print(a, \"es el valor mayor\")\n",
        "      print(c, \"es el valor medio\")\n",
        "      print(b, \"es el valor menor\")\n",
        "  elif b > a and b > c:\n",
        "    if a > c:\n",
        "      print(b, \"es el valor mayor\")\n",
        "      print(a, \"es el valor medio\")\n",
        "      print(c, \"es el valor menor\")\n",
        "    else: \n",
        "      print(b, \"es el valor mayor\")\n",
        "      print(c, \"es el valor medio\")\n",
        "      print(a, \"es el valor menor\")\n",
        "  if c > a and c > b:\n",
        "    if a > b:\n",
        "      print(c, \"es el valor mayor\")\n",
        "      print(a, \"es el valor medio\")\n",
        "      print(b, \"es el valor menor\")\n",
        "    else: \n",
        "      print(c, \"es el valor mayor\")\n",
        "      print(b, \"es el valor medio\")\n",
        "      print(a, \"es el valor menor\")\n",
        "else:\n",
        "   print(\"No se puede hacer el calculo\")"
      ]
    },
    {
      "cell_type": "code",
      "source": [
        "def imprimir(a,b,c):\n",
        "  print(a, \"es el valor mayor\")\n",
        "  print(b, \"es el valor medio\")\n",
        "  print(c, \"es el valor menor\")"
      ],
      "metadata": {
        "id": "XMVxObn5LmFc"
      },
      "execution_count": 11,
      "outputs": []
    },
    {
      "cell_type": "code",
      "source": [
        "imprimir()\n",
        "\n",
        "if a != b and a != c and b != c:\n",
        "  if a > b and a > c:\n",
        "    if b > c:\n",
        "      print(a, \"es el valor mayor\")\n",
        "      print(b, \"es el valor medio\")\n",
        "      print(c, \"es el valor menor\")\n",
        "    else: \n",
        "      print(a, \"es el valor mayor\")\n",
        "      print(c, \"es el valor medio\")\n",
        "      print(b, \"es el valor menor\")\n",
        "  elif b > a and b > c:\n",
        "    if a > c:\n",
        "      print(b, \"es el valor mayor\")\n",
        "      print(a, \"es el valor medio\")\n",
        "      print(c, \"es el valor menor\")\n",
        "    else: \n",
        "      print(b, \"es el valor mayor\")\n",
        "      print(c, \"es el valor medio\")\n",
        "      print(a, \"es el valor menor\")\n",
        "  if c > a and c > b:\n",
        "    if a > b:\n",
        "      print(c, \"es el valor mayor\")\n",
        "      print(a, \"es el valor medio\")\n",
        "      print(b, \"es el valor menor\")\n",
        "    else: \n",
        "      print(c, \"es el valor mayor\")\n",
        "      print(b, \"es el valor medio\")\n",
        "      print(a, \"es el valor menor\")\n",
        "else:\n",
        "   print(\"No se puede hacer el calculo\")"
      ],
      "metadata": {
        "id": "wlXddNCHLOLh"
      },
      "execution_count": null,
      "outputs": []
    },
    {
      "cell_type": "code",
      "source": [
        "a=int(input(\"Ingrese un número: \"))\n",
        "b=int(input(\"Ingrese un número: \"))\n",
        "c=int(input(\"Ingrese un número: \"))\n",
        "if a != b and a != c and b != c:\n",
        "  if a > b and a > c:\n",
        "    if b > c:\n",
        "     imprimir(a,b,c)\n",
        "    else: \n",
        "      imprimir(a,c,b)\n",
        "  elif b > a and b > c:\n",
        "    if a > c:\n",
        "      imprimir(b,a,c)\n",
        "    else: \n",
        "      imprimir(b,c,a)\n",
        "  if c > a and c > b:\n",
        "    if a > b:\n",
        "      imprimir(c,a,b)\n",
        "    else: \n",
        "      imprimir(c,b,a)\n",
        "else:\n",
        "   print(\"No se puede hacer el calculo\")"
      ],
      "metadata": {
        "colab": {
          "base_uri": "https://localhost:8080/"
        },
        "id": "f5truvn5LqFJ",
        "outputId": "e7f3cff1-8849-4799-fb5e-f9af4781e610"
      },
      "execution_count": 13,
      "outputs": [
        {
          "output_type": "stream",
          "name": "stdout",
          "text": [
            "Ingrese un número: 5\n",
            "Ingrese un número: 2\n",
            "Ingrese un número: 1\n",
            "5 es el valor mayor\n",
            "2 es el valor medio\n",
            "1 es el valor menor\n"
          ]
        }
      ]
    },
    {
      "cell_type": "code",
      "source": [
        "def comparar(a,b,c):\n",
        "  if a != b and a != c and b != c:\n",
        "    if a > b and a > c:\n",
        "      if b > c:\n",
        "        imprimir(a,b,c)\n",
        "      else: \n",
        "        imprimir(a,c,b)\n",
        "    elif b > a and b > c:\n",
        "      if a > c:\n",
        "        imprimir(b,a,c)\n",
        "      else: \n",
        "        imprimir(b,c,a)\n",
        "    if c > a and c > b:\n",
        "      if a > b:\n",
        "        imprimir(c,a,b)\n",
        "      else: \n",
        "        imprimir(c,b,a)\n",
        "  else:\n",
        "    print(\"No se puede hacer el calculo\")\n",
        "a=int(input(\"Ingrese un número: \"))\n",
        "b=int(input(\"Ingrese un número: \"))\n",
        "c=int(input(\"Ingrese un número: \"))\n",
        "comparar(c,b,a)"
      ],
      "metadata": {
        "colab": {
          "base_uri": "https://localhost:8080/"
        },
        "id": "Dm5JvHoPLwih",
        "outputId": "306ee9d5-d696-42c3-85a7-489147ba1ba5"
      },
      "execution_count": 17,
      "outputs": [
        {
          "output_type": "stream",
          "name": "stdout",
          "text": [
            "Ingrese un número: 7\n",
            "Ingrese un número: 8\n",
            "Ingrese un número: 9\n",
            "9 es el valor mayor\n",
            "8 es el valor medio\n",
            "7 es el valor menor\n"
          ]
        }
      ]
    }
  ]
}