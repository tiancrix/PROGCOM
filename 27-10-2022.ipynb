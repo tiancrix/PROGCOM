{
  "nbformat": 4,
  "nbformat_minor": 0,
  "metadata": {
    "colab": {
      "provenance": []
    },
    "kernelspec": {
      "name": "python3",
      "display_name": "Python 3"
    },
    "language_info": {
      "name": "python"
    }
  },
  "cells": [
    {
      "cell_type": "code",
      "execution_count": null,
      "metadata": {
        "id": "87yTdXaSGfm0"
      },
      "outputs": [],
      "source": [
        "class Espadas():\n",
        "  nombre=\"Soy una espada\"\n",
        "  daño=\"causo daño\"\n",
        "  def __init__(self,nombre,daño): \n",
        "    self.nombre = nombre\n",
        "    self.daño = daño\n",
        "\n",
        "  def __repr__(self):\n",
        "    return f\"espada de:{self.nombre}, y causa:{self.daño} de daño\""
      ]
    },
    {
      "cell_type": "code",
      "source": [
        "class Espada_elemental(Espadas):\n",
        "  def masatributos(self,elemento,tamaño,durabilidad,color):\n",
        "      self.elemento = elemento\n",
        "      self.tamaño = tamaño\n",
        "      self.durabilidad = durabilidad\n",
        "      self.color = color"
      ],
      "metadata": {
        "id": "Mw-OABkZHl-h"
      },
      "execution_count": null,
      "outputs": []
    },
    {
      "cell_type": "code",
      "source": [
        "espada1=Espada_elemental(\"Espada de fuego\", 200)"
      ],
      "metadata": {
        "id": "TktUFbfUJLpl"
      },
      "execution_count": null,
      "outputs": []
    },
    {
      "cell_type": "code",
      "source": [
        "print(espada1)"
      ],
      "metadata": {
        "colab": {
          "base_uri": "https://localhost:8080/"
        },
        "id": "MUmsE8PWJXq0",
        "outputId": "a0f55c75-56b6-4e19-bf21-8d056675ff53"
      },
      "execution_count": null,
      "outputs": [
        {
          "output_type": "stream",
          "name": "stdout",
          "text": [
            "espada de:Espada de fuego, y causa:200 de daño\n"
          ]
        }
      ]
    },
    {
      "cell_type": "code",
      "source": [
        "espada1.masatributos(\"fuego\",25, 100,\"rojo\")"
      ],
      "metadata": {
        "id": "-4ZZbioUJtVT"
      },
      "execution_count": null,
      "outputs": []
    },
    {
      "cell_type": "code",
      "source": [
        "espada1.__dict__"
      ],
      "metadata": {
        "colab": {
          "base_uri": "https://localhost:8080/"
        },
        "id": "UW6xdgBAJ7Y7",
        "outputId": "501b897a-0d6f-4a51-99d2-4c75d81d3c41"
      },
      "execution_count": null,
      "outputs": [
        {
          "output_type": "execute_result",
          "data": {
            "text/plain": [
              "{'nombre': 'Espada de fuego',\n",
              " 'daño': 200,\n",
              " 'elemento': 'fuego',\n",
              " 'tamaño': 25,\n",
              " 'durabilidad': 100,\n",
              " 'color': 'rojo'}"
            ]
          },
          "metadata": {},
          "execution_count": 7
        }
      ]
    },
    {
      "cell_type": "code",
      "source": [
        "class Humano():\n",
        "  nombre=\"Soy Cristian\"\n",
        "  edad=\"años de vida\"\n",
        "  def __init__(self,nombre,edad): \n",
        "    self.nombre = nombre\n",
        "    self.edad = edad\n",
        "\n",
        "  def __repr__(self):\n",
        "    return f\"me llamo:{self.nombre}, y tengo:{self.edad} años\""
      ],
      "metadata": {
        "id": "s6iHoJGvOZIw"
      },
      "execution_count": null,
      "outputs": []
    },
    {
      "cell_type": "code",
      "source": [
        "class Espada_elemental(Espadas):\n",
        "  def masatributos(self,elemento,tamaño,durabilidad,color):\n",
        "      self.elemento = elemento\n",
        "      self.tamaño = tamaño\n",
        "      self.durabilidad = durabilidad\n",
        "      self.color = color"
      ],
      "metadata": {
        "id": "dOUR2DGMPBWv"
      },
      "execution_count": null,
      "outputs": []
    }
  ]
}