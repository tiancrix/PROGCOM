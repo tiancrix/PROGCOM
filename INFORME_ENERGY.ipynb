{
  "nbformat": 4,
  "nbformat_minor": 0,
  "metadata": {
    "colab": {
      "provenance": []
    },
    "kernelspec": {
      "name": "python3",
      "display_name": "Python 3"
    },
    "language_info": {
      "name": "python"
    }
  },
  "cells": [
    {
      "cell_type": "markdown",
      "source": [
        "#INGENIERIA MECATRÓNICA\n",
        "**CURSO: Laboratorio de Mecánica**\n",
        "\n",
        "**PRÁCTICAS 10: CONSERVACIÒN DE ENERGIA**\n",
        "\n",
        "INTEGRANTES:\n",
        "1. Juan Andres Leon \n",
        "2. Sebastian Zabala\n",
        "3. Cristian Acuña\n",
        "\n",
        "##RESUMEN\n",
        "En este documento se presenta el análisis de la práctica #9 relacionada con el concepto de conservación de energía. Se realizaron los experimentos planteados en las guías de laboratorio y se profundizó en los conceptos relacionados con el tema además se identificaron las herramientas que se usaron para completar el experimento y gracias a esto se pudo cumplir con los objetivos previstos: Analizar y comprender la conservación de energía en un cuerpo o proyectil manteniéndose en un movimiento semi parabólico, logramos identificar y diferenciar las ecuaciones de la energía cinética, potencial y mecánica, además comprendimos y dimos uso de la ley de conservación de la energía y logramos diferencial los resultados o variaciones de la energía mecánica en diferentes puntos del movimiento.\n",
        "\n",
        "INTRODUCCIÓN\n",
        "La ley de la conservación de la energía constituye el primer principio de la termodinámica y afirma que la cantidad total de energía en cualquier sistema aislado permanece invariable con el tiempo, aunque dicha energía puede transformarse en otra forma de energía. Estas energías se conocen como la energía cinética y energía potencial; La energía cinética es aquella energía que posee debido al movimiento relativo de un cuerpo, se representa con la letra K y se calcula con la formula [1]:\n",
        "\n",
        "***K= 1/2 mv^2***\n",
        "\n",
        "Donde m es la variable de masa y v la variable de velocidad.\n",
        "\n",
        "Otra energía que acompañan a la energía cinética es la energía potencial, es aquella energía que posee un determinado cuerpo en estado de reposo, también se denomina la capacidad que tiene un cuerpo para llevar a cabo una acción desde la posición en la que se encuentra. Esta energía se representa con la letra U y se calcula con la formula [2]:\n",
        "\n",
        "***U=mgh***\n",
        "\n",
        "Donde m es la variable de masa, g la variable de gravedad y h la altura.\n",
        "\n",
        "Además de las mencionadas existe la energía mecánica, es la energía que producen la posición y el movimiento de los cuerpos, por esto mismo se puede definir como el resultado de la suma entre la energía potencial y cinética. Esta energía mecánica se representa con el símbolo Emec y se calcula con la formula [3]:\n",
        "\n",
        "***E_mec= K+U*** \n",
        "\n",
        "Donde k es la energía cinética y U es la energía potencial.\n",
        "\n",
        "Una forma de entender la energía es como lo muestra la figura [1], la cual nos dice como actúa la energía en tres diferentes posiciones.\n",
        "\n",
        "Figura [1]. Ejemplo de la conservación de energía.\n",
        "\n",
        "##DESARROLLO EXPERIMENTAL:\n",
        "3.1 Materiales y equipos requeridos\n",
        "En la práctica #9 se desarrolló con la siguiente lista de materiales:\n",
        "\n",
        "* Abrazadera magnética\n",
        "* Abrazadera fotopuerta\n",
        "* Varilla vertical\n",
        "* Bola de metal\n",
        "* Superficie de “Icopor”\n",
        "\n",
        "Todos estos materiales se pueden observar en la figura [2]\n",
        "\n",
        "Figura [2] Ilustración de los materiales en el montaje.\n",
        "\n",
        "##CONCLUSIONES\n",
        "La variación de resultados de la energía mecánica, es porque se realizo la medida en diferentes puntos del movimiento, por ejemplo: En el punto A donde la altura (h) es máxima y la bola no ha empezado a moverse, la energía potencial es máxima y la cinética nula por ende la energía mecánica será igual a la potencial.\n"
      ],
      "metadata": {
        "id": "FNeb2W7Q_9ea"
      }
    }
  ]
}