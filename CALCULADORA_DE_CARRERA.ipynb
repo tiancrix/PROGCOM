{
  "nbformat": 4,
  "nbformat_minor": 0,
  "metadata": {
    "colab": {
      "provenance": []
    },
    "kernelspec": {
      "name": "python3",
      "display_name": "Python 3"
    },
    "language_info": {
      "name": "python"
    }
  },
  "cells": [
    {
      "cell_type": "code",
      "execution_count": null,
      "metadata": {
        "id": "cLYdHeaw7PGY"
      },
      "outputs": [],
      "source": [
        "from sympy import *\n",
        "from sympy.parsing.sympy_parser import parse_expr  \n",
        "from tkinter import *\n",
        "\n",
        "\n",
        "def derivada():\n",
        "    try:\n",
        "        x = symbols('x')\n",
        "        fun_escrita = funcion.get()\n",
        "        f = parse_expr(fun_escrita)\n",
        "        derivada = diff(f, x)\n",
        "        etiqueta.configure(text=derivada)\n",
        "    except:\n",
        "        etiqueta.configure(text=\"Introduce la función correctamente\")\n",
        "\n",
        "\n",
        "def integral():\n",
        "    try:\n",
        "        x = symbols('x')\n",
        "        fun_escrita2 = funcion.get()\n",
        "        g = parse_expr(fun_escrita2)\n",
        "        integral = integrate(g, x)\n",
        "        etiqueta.configure(text=integral)\n",
        "    except:\n",
        "        etiqueta.configure(text=\"Introduce la función correctamente\")\n",
        "\n",
        "\n",
        "ventana = Tk()\n",
        "ventana.geometry('400x280')\n",
        "ventana.title(\"La mejor calculadora del Mundo: f(x)\")\n",
        "\n",
        "anuncio = Label(ventana, text=\"Introduce una función de x:\", font=(\"Times New Roman\", 15), fg=\"blue\")\n",
        "anuncio.pack()\n",
        "\n",
        "funcion = Entry(ventana, font=(\"Times New Roman\", 15))\n",
        "funcion.pack()\n",
        "\n",
        "etiqueta = Label(ventana, text=\"Resultado\", font=(\"Times New Roman\", 15), fg=\"red\")\n",
        "etiqueta.pack()\n",
        "\n",
        "boton1 = Button(ventana, text=\"Derivar Función\", font=(\"Times New Roman\", 15), command=derivada)\n",
        "boton1.pack()\n",
        "\n",
        "boton2 = Button(ventana, text=\"Integrar Función\", font=(\"Times New Roman\", 15), command=integral)\n",
        "boton2.pack()\n",
        "\n",
        "\n",
        "def _quit():\n",
        "    ventana.quit()\n",
        "    ventana.destroy()\n",
        "\n",
        "\n",
        "button3 = Button(master=ventana, text=\"Salir\", font=(\"Arial\", 15), command=_quit)\n",
        "button3.pack()\n",
        "\n",
        "ventana.mainloop()"
      ]
    }
  ]
}