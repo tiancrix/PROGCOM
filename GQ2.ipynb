{
  "nbformat": 4,
  "nbformat_minor": 0,
  "metadata": {
    "colab": {
      "provenance": []
    },
    "kernelspec": {
      "name": "python3",
      "display_name": "Python 3"
    },
    "language_info": {
      "name": "python"
    }
  },
  "cells": [
    {
      "cell_type": "code",
      "execution_count": null,
      "metadata": {
        "id": "DEpXG4BYBojN"
      },
      "outputs": [],
      "source": [
        "import math\n",
        "print(\"Bienvenido a calculator!!!\")\n",
        "print(\"En este programa vamos a solucionar varios problemas \\n que conmunmente tienes en la carrera\")\n",
        "print(\"¿Qué quieres hacer hoy?\")\n",
        "B=int(input(\"Si quieres sumar pon 1, si quieres restar pon 2, \\n si quieres multiplicar pon 3, si quieres dividir pon 4, \\n si quieres saber cuanto es un numero elevado a otro pon 5, \\n si quieres saber el logaritmo natural de un numero pon 6, \\n si quieres hallar seno pon 7, si quieres hallar el coseno pon 8, \\n si quieres hallar la tangente pon 9, si quieres sacar la raíz cuadrada pon 10 \\n y si quieres saber cuantos kWh gasta tu televisor de tu casa pon 11 \"))\n",
        "\n",
        "\n",
        "if b==1:\n",
        " d=int(input(\"Ingresa el primer numero que deseas operar\"))\n",
        " s=int(input(\"Ingresa el segundo numero que deseas operar\"))\n",
        " k= d+s\n",
        " print(k)\n",
        "elif b=2:\n",
        " d=int(input(\"Ingresa el primer numero que deseas operar\"))\n",
        " s=int(input(\"Ingresa el segundo numero que deseas operar\"))\n",
        " k= d-s\n",
        " print(k)\n",
        "elif b==3:\n",
        " d=int(input(\"Ingresa el primer numero que deseas operar\"))\n",
        " s=int(input(\"Ingresa el segundo numero que deseas operar\"))\n",
        " k= d*s\n",
        " print(k)\n",
        "elif b==4:\n",
        " d=int(input(\"Ingresa el primer numero que deseas operar\"))\n",
        " s=int(input(\"Ingresa el segundo numero que deseas operar\"))\n",
        " k= d/s\n",
        " print(k)\n",
        "elif b==5:\n",
        " d=int(input(\"Ingresa el primer numero que deseas operar\"))\n",
        " s=int(input(\"Ingresa el segundo numero que deseas operar\"))\n",
        " k= d**s\n",
        " print(k)\n",
        "elif b==6:\n",
        " D=int(input(\"Ingresa el numero que deseas operar\"))\n",
        " k=math.log(d)\n",
        " print(k)\n",
        "elif b==7:\n",
        " d=int(input(\"Ingresa el numero que deseas operar\"))\n",
        " d=d*math.pi/180\n",
        " k=(math.sin(D))\n",
        " print(k)\n",
        "elif b==8:\n",
        " D=int(input(\"Ingresa el numero que deseas operar\"))\n",
        " \n",
        " D=D*math.pi/180\n",
        " K=math.cos(D)\n",
        " print(K)\n",
        "elif B==9:\n",
        " D=int(input(\"Ingresa el numero que deseas operar\"))\n",
        " D=D*math.pi/180\n",
        " K=math.tan(D)\n",
        " print(K)  \n",
        "elif B==10:\n",
        " D=int(input(\"Ingresa el numero que deseas operar\"))\n",
        " raiz=math.sqrt(D)\n",
        " print(raiz)\n",
        "elif b==11:\n",
        " d=int(input(\"¿De cuántos Watts es tu televisor?\"))\n",
        " k=int(input(\"¿Cuántas horas al día esta prendido en promedio?\"))\n",
        " z=((d*k)/1000)\n",
        " print(\"Tu televicor gasta\" ,z, \"kWh/día\")\n",
        "else:\n",
        " print(\"SYNTAX ERROR\")"
      ]
    }
  ]
}