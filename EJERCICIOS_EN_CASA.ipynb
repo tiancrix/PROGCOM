{
  "nbformat": 4,
  "nbformat_minor": 0,
  "metadata": {
    "colab": {
      "provenance": []
    },
    "kernelspec": {
      "name": "python3",
      "display_name": "Python 3"
    },
    "language_info": {
      "name": "python"
    }
  },
  "cells": [
    {
      "cell_type": "code",
      "execution_count": null,
      "metadata": {
        "id": "U4G9uv298Z1N"
      },
      "outputs": [],
      "source": [
        "print(\"Ingrese notas de 0 a 50\")\n",
        "i= int(input())\n",
        "v= int(input())\n",
        "a= int(input())\n",
        "n= int(input())\n",
        "prom=((i+v+a+n)/(4))\n",
        "\n",
        "print(\"Panita tu promedio es\",prom,)\n",
        "if prom>45:\n",
        "  print(\"Estas exonerado del examen final\")\n",
        "else:\n",
        "  if prom>=35:\n",
        "    print(\"Te toca presentar el examen\") \n",
        "  else:\n",
        "    if prom>=30:\n",
        "      print(\" Tienes que presentar el examen y para mas un trabajo \")\n",
        "    else:\n",
        "      if prom>=20:\n",
        "        print( \" Tienes que hacer la recuperación \") \n",
        "      else:\n",
        "        print(\"Lastimosamente perdiste la materia\")"
      ]
    },
    {
      "cell_type": "code",
      "source": [
        "año=int(input())\n",
        "if año % 4!= 0:\n",
        "  print(\"Este no es bisiesto\")\n",
        "elif año % 4== 0 and año % 100!= 0:\n",
        "  print(\"Este si es bisiesto\")\n",
        "elif año % 4== 0 and año % 100 == 0 and año % 400 != 0:\n",
        "  print(\"Este si es bisiesto\")\n",
        "elif año % 4== 0 and año % 100 == 0 and año % 400 == 0:\n",
        "   print(\" Este si es bisiesto \")"
      ],
      "metadata": {
        "id": "WCxq4wjJ830m"
      },
      "execution_count": null,
      "outputs": []
    },
    {
      "cell_type": "code",
      "source": [
        "i= float(input(\" POr favor ingresa un numero entero \"))\n",
        "c= int(i)\n",
        "if c>0 and i==c:\n",
        "  print( \"El valor absoluto de \",i,\"es\",i)\n",
        "elif c>0 and c==a: \n",
        "  print( \"El valor absoluto de\",x, \"es\",(-1*i))\n",
        "else: \n",
        "  print( \" Por favor debes colocar numeros enteros\")"
      ],
      "metadata": {
        "id": "IVpE-0cg87Ta"
      },
      "execution_count": null,
      "outputs": []
    },
    {
      "cell_type": "code",
      "source": [
        "print(\"10. cm a km\")\n",
        "print(\"20. cm a km \")\n",
        "print(\"30. m a km\")\n",
        "print(\"40. km a cm\")\n",
        "print(\"50. km a m\")\n",
        "\n",
        "i=int(input(\"Seleccione una de estas opciones de conversión\"))\n",
        "if i==10:\n",
        "  cm= float(input(\" Ingresa los cm que quieras\"))\n",
        "  print(f\"{cm} cm son {cm*0.01} m\")\n",
        "if i==20:\n",
        "  cm= float(input(\" Ingresa los cm que quieras\"))\n",
        "  print(f\"{cm} cm son {cm/100000} km\")\n",
        "if i==30:\n",
        "  m= float(input(\" Ingresa los m que quieras\"))\n",
        "  print(f\"{m} m son {m/1000} km\")\n",
        "if i==40:\n",
        "  km= float(input(\" Ingresa los km que quieras\"))\n",
        "  print(f\"{km} km son {km*100000} cm\")\n",
        "if i==50:\n",
        "  km= float(input(\" Ingresa los km que quieras \"))\n",
        "  print(f\"{km} km son {km*1000} m\")"
      ],
      "metadata": {
        "id": "A1JWMEFn8-7Z"
      },
      "execution_count": null,
      "outputs": []
    }
  ]
}