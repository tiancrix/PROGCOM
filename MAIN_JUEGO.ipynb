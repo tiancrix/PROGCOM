{
  "nbformat": 4,
  "nbformat_minor": 0,
  "metadata": {
    "colab": {
      "provenance": []
    },
    "kernelspec": {
      "name": "python3",
      "display_name": "Python 3"
    },
    "language_info": {
      "name": "python"
    }
  },
  "cells": [
    {
      "cell_type": "code",
      "execution_count": null,
      "metadata": {
        "id": "MtYTRR-VtK3g"
      },
      "outputs": [],
      "source": [
        "import pygame\n",
        "from game import Game\n",
        "\n",
        "SCREEN_WIDTH = 800\n",
        "SCREEN_HEIGHT = 576\n",
        "\n",
        "def main():\n",
        "       pygame.init()\n",
        "        screen = pygame.display.set_mode((SCREEN_WIDTH,SCREEN_HEIGHT))\n",
        "        pygame.display.set_caption(\"PACMAN\")\n",
        "       done = False\n",
        "       clock = pygame.time.Clock()\n",
        "       game = Game()\n",
        "   \n",
        "      while not done:\n",
        "        done = game.process_events()\n",
        "        game.run_logic()\n",
        "        game.display_frame(screen)\n",
        "        clock.tick(30)\n",
        "      \n",
        "    pygame.quit()\n",
        "\n",
        "if __name__ == '__main__':\n",
        "    main()"
      ]
    }
  ]
}